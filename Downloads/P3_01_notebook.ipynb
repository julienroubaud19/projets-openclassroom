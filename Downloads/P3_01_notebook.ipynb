{
 "cells": [
  {
   "cell_type": "markdown",
   "metadata": {
    "colab_type": "text",
    "id": "5nXOeqHo2T90"
   },
   "source": [
    "#Code imports and data importation\n"
   ]
  },
  {
   "cell_type": "code",
   "execution_count": null,
   "metadata": {
    "colab": {},
    "colab_type": "code",
    "id": "RinVYK-D7YLE"
   },
   "outputs": [],
   "source": [
    "import pandas as pd\n",
    "import numpy as np\n",
    "import matplotlib.pyplot as plt\n",
    "import matplotlib.ticker as ticker\n",
    "from sklearn.preprocessing import MinMaxScaler\n",
    "from sklearn import preprocessing\n",
    "import seaborn as sns\n",
    "import ast\n",
    "from keras.utils import to_categorical\n",
    "from sklearn.model_selection import train_test_split\n",
    "import h5py\n",
    "import scipy\n",
    "from tqdm import tqdm"
   ]
  },
  {
   "cell_type": "code",
   "execution_count": null,
   "metadata": {
    "colab": {
     "base_uri": "https://localhost:8080/",
     "height": 34
    },
    "colab_type": "code",
    "executionInfo": {
     "elapsed": 2043,
     "status": "ok",
     "timestamp": 1597344243706,
     "user": {
      "displayName": "Omar Rachidi Lalaoui",
      "photoUrl": "",
      "userId": "03755236871103525465"
     },
     "user_tz": -60
    },
    "id": "Op65XmKJAr__",
    "outputId": "c1cb01c9-bb0b-4ce0-f817-0d68d92061fd"
   },
   "outputs": [
    {
     "name": "stdout",
     "output_type": "stream",
     "text": [
      "mkdir: cannot create directory ‘figures’: File exists\n"
     ]
    }
   ],
   "source": [
    "!mkdir \"figures\"\n",
    "path = \"figures/\""
   ]
  },
  {
   "cell_type": "code",
   "execution_count": null,
   "metadata": {
    "colab": {
     "base_uri": "https://localhost:8080/",
     "height": 122
    },
    "colab_type": "code",
    "executionInfo": {
     "elapsed": 22719,
     "status": "ok",
     "timestamp": 1597344266277,
     "user": {
      "displayName": "Omar Rachidi Lalaoui",
      "photoUrl": "",
      "userId": "03755236871103525465"
     },
     "user_tz": -60
    },
    "id": "SOXTBWu97g2R",
    "outputId": "e9e96f0a-5480-4224-b3f5-916a68cf51d4"
   },
   "outputs": [
    {
     "name": "stdout",
     "output_type": "stream",
     "text": [
      "Go to this URL in a browser: https://accounts.google.com/o/oauth2/auth?client_id=947318989803-6bn6qk8qdgf4n4g3pfee6491hc0brc4i.apps.googleusercontent.com&redirect_uri=urn%3aietf%3awg%3aoauth%3a2.0%3aoob&scope=email%20https%3a%2f%2fwww.googleapis.com%2fauth%2fdocs.test%20https%3a%2f%2fwww.googleapis.com%2fauth%2fdrive%20https%3a%2f%2fwww.googleapis.com%2fauth%2fdrive.photos.readonly%20https%3a%2f%2fwww.googleapis.com%2fauth%2fpeopleapi.readonly&response_type=code\n",
      "\n",
      "Enter your authorization code:\n",
      "··········\n",
      "Mounted at /content/drive\n"
     ]
    }
   ],
   "source": [
    "from google.colab import drive\n",
    "drive.mount('/content/drive')"
   ]
  },
  {
   "cell_type": "code",
   "execution_count": null,
   "metadata": {
    "colab": {},
    "colab_type": "code",
    "id": "tAYoi1sB7t_e"
   },
   "outputs": [],
   "source": [
    "data1=pd.read_csv('/content/drive/My Drive/P3.1.csv',sep=\"\\t\")"
   ]
  },
  {
   "cell_type": "code",
   "execution_count": null,
   "metadata": {
    "colab": {},
    "colab_type": "code",
    "id": "zA7GVhbM71Ka"
   },
   "outputs": [],
   "source": [
    "data2=pd.read_csv('/content/drive/My Drive/P3.2.csv',sep=\"\\t\")"
   ]
  },
  {
   "cell_type": "code",
   "execution_count": null,
   "metadata": {
    "colab": {
     "base_uri": "https://localhost:8080/",
     "height": 34
    },
    "colab_type": "code",
    "executionInfo": {
     "elapsed": 2407,
     "status": "ok",
     "timestamp": 1597344267061,
     "user": {
      "displayName": "Omar Rachidi Lalaoui",
      "photoUrl": "",
      "userId": "03755236871103525465"
     },
     "user_tz": -60
    },
    "id": "ECI89XL776m5",
    "outputId": "e661a7f9-e337-4e2e-b818-9c044791c9b6"
   },
   "outputs": [
    {
     "data": {
      "text/plain": [
       "(3340, 47)"
      ]
     },
     "execution_count": 10,
     "metadata": {
      "tags": []
     },
     "output_type": "execute_result"
    }
   ],
   "source": [
    "data1.shape"
   ]
  },
  {
   "cell_type": "code",
   "execution_count": null,
   "metadata": {
    "colab": {
     "base_uri": "https://localhost:8080/",
     "height": 34
    },
    "colab_type": "code",
    "executionInfo": {
     "elapsed": 2227,
     "status": "ok",
     "timestamp": 1597344267069,
     "user": {
      "displayName": "Omar Rachidi Lalaoui",
      "photoUrl": "",
      "userId": "03755236871103525465"
     },
     "user_tz": -60
    },
    "id": "hQzit2h2Cd_l",
    "outputId": "8c38f390-669b-4689-a4eb-a9c79a69c677"
   },
   "outputs": [
    {
     "data": {
      "text/plain": [
       "(3376, 46)"
      ]
     },
     "execution_count": 11,
     "metadata": {
      "tags": []
     },
     "output_type": "execute_result"
    }
   ],
   "source": [
    "data2.shape"
   ]
  },
  {
   "cell_type": "code",
   "execution_count": null,
   "metadata": {
    "colab": {
     "base_uri": "https://localhost:8080/",
     "height": 253
    },
    "colab_type": "code",
    "executionInfo": {
     "elapsed": 2042,
     "status": "ok",
     "timestamp": 1597344267071,
     "user": {
      "displayName": "Omar Rachidi Lalaoui",
      "photoUrl": "",
      "userId": "03755236871103525465"
     },
     "user_tz": -60
    },
    "id": "ptC-ue_5Ckfa",
    "outputId": "11802e64-2036-4d47-f1d0-ad00767d6080"
   },
   "outputs": [
    {
     "data": {
      "text/html": [
       "<div>\n",
       "<style scoped>\n",
       "    .dataframe tbody tr th:only-of-type {\n",
       "        vertical-align: middle;\n",
       "    }\n",
       "\n",
       "    .dataframe tbody tr th {\n",
       "        vertical-align: top;\n",
       "    }\n",
       "\n",
       "    .dataframe thead th {\n",
       "        text-align: right;\n",
       "    }\n",
       "</style>\n",
       "<table border=\"1\" class=\"dataframe\">\n",
       "  <thead>\n",
       "    <tr style=\"text-align: right;\">\n",
       "      <th></th>\n",
       "      <th>OSEBuildingID</th>\n",
       "      <th>DataYear</th>\n",
       "      <th>BuildingType</th>\n",
       "      <th>PrimaryPropertyType</th>\n",
       "      <th>PropertyName</th>\n",
       "      <th>TaxParcelIdentificationNumber</th>\n",
       "      <th>Location</th>\n",
       "      <th>CouncilDistrictCode</th>\n",
       "      <th>Neighborhood</th>\n",
       "      <th>YearBuilt</th>\n",
       "      <th>NumberofBuildings</th>\n",
       "      <th>NumberofFloors</th>\n",
       "      <th>PropertyGFATotal</th>\n",
       "      <th>PropertyGFAParking</th>\n",
       "      <th>PropertyGFABuilding(s)</th>\n",
       "      <th>ListOfAllPropertyUseTypes</th>\n",
       "      <th>LargestPropertyUseType</th>\n",
       "      <th>LargestPropertyUseTypeGFA</th>\n",
       "      <th>SecondLargestPropertyUseType</th>\n",
       "      <th>SecondLargestPropertyUseTypeGFA</th>\n",
       "      <th>ThirdLargestPropertyUseType</th>\n",
       "      <th>ThirdLargestPropertyUseTypeGFA</th>\n",
       "      <th>YearsENERGYSTARCertified</th>\n",
       "      <th>ENERGYSTARScore</th>\n",
       "      <th>SiteEUI(kBtu/sf)</th>\n",
       "      <th>SiteEUIWN(kBtu/sf)</th>\n",
       "      <th>SourceEUI(kBtu/sf)</th>\n",
       "      <th>SourceEUIWN(kBtu/sf)</th>\n",
       "      <th>SiteEnergyUse(kBtu)</th>\n",
       "      <th>SiteEnergyUseWN(kBtu)</th>\n",
       "      <th>SteamUse(kBtu)</th>\n",
       "      <th>Electricity(kWh)</th>\n",
       "      <th>Electricity(kBtu)</th>\n",
       "      <th>NaturalGas(therms)</th>\n",
       "      <th>NaturalGas(kBtu)</th>\n",
       "      <th>OtherFuelUse(kBtu)</th>\n",
       "      <th>GHGEmissions(MetricTonsCO2e)</th>\n",
       "      <th>GHGEmissionsIntensity(kgCO2e/ft2)</th>\n",
       "      <th>DefaultData</th>\n",
       "      <th>Comment</th>\n",
       "      <th>ComplianceStatus</th>\n",
       "      <th>Outlier</th>\n",
       "      <th>2010 Census Tracts</th>\n",
       "      <th>Seattle Police Department Micro Community Policing Plan Areas</th>\n",
       "      <th>City Council Districts</th>\n",
       "      <th>SPD Beats</th>\n",
       "      <th>Zip Codes</th>\n",
       "    </tr>\n",
       "  </thead>\n",
       "  <tbody>\n",
       "    <tr>\n",
       "      <th>0</th>\n",
       "      <td>1</td>\n",
       "      <td>2015</td>\n",
       "      <td>NonResidential</td>\n",
       "      <td>Hotel</td>\n",
       "      <td>MAYFLOWER PARK HOTEL</td>\n",
       "      <td>659000030</td>\n",
       "      <td>{'latitude': '47.61219025', 'longitude': '-122...</td>\n",
       "      <td>7</td>\n",
       "      <td>DOWNTOWN</td>\n",
       "      <td>1927</td>\n",
       "      <td>1</td>\n",
       "      <td>12.0</td>\n",
       "      <td>88434</td>\n",
       "      <td>0</td>\n",
       "      <td>88434</td>\n",
       "      <td>Hotel</td>\n",
       "      <td>Hotel</td>\n",
       "      <td>88434.0</td>\n",
       "      <td>NaN</td>\n",
       "      <td>NaN</td>\n",
       "      <td>NaN</td>\n",
       "      <td>NaN</td>\n",
       "      <td>NaN</td>\n",
       "      <td>65.0</td>\n",
       "      <td>78.9</td>\n",
       "      <td>80.3</td>\n",
       "      <td>173.5</td>\n",
       "      <td>175.1</td>\n",
       "      <td>6981428.0</td>\n",
       "      <td>7097539.0</td>\n",
       "      <td>2023032.0</td>\n",
       "      <td>1080307.0</td>\n",
       "      <td>3686160.0</td>\n",
       "      <td>12724.0</td>\n",
       "      <td>1272388.0</td>\n",
       "      <td>0.0</td>\n",
       "      <td>249.43</td>\n",
       "      <td>2.64</td>\n",
       "      <td>No</td>\n",
       "      <td>NaN</td>\n",
       "      <td>Compliant</td>\n",
       "      <td>NaN</td>\n",
       "      <td>NaN</td>\n",
       "      <td>14.0</td>\n",
       "      <td>NaN</td>\n",
       "      <td>31.0</td>\n",
       "      <td>18081</td>\n",
       "    </tr>\n",
       "  </tbody>\n",
       "</table>\n",
       "</div>"
      ],
      "text/plain": [
       "   OSEBuildingID  DataYear  ... SPD Beats Zip Codes\n",
       "0              1      2015  ...      31.0     18081\n",
       "\n",
       "[1 rows x 47 columns]"
      ]
     },
     "execution_count": 12,
     "metadata": {
      "tags": []
     },
     "output_type": "execute_result"
    }
   ],
   "source": [
    "data1.head(1)"
   ]
  },
  {
   "cell_type": "code",
   "execution_count": null,
   "metadata": {
    "colab": {
     "base_uri": "https://localhost:8080/",
     "height": 134
    },
    "colab_type": "code",
    "executionInfo": {
     "elapsed": 2498,
     "status": "ok",
     "timestamp": 1597344267659,
     "user": {
      "displayName": "Omar Rachidi Lalaoui",
      "photoUrl": "",
      "userId": "03755236871103525465"
     },
     "user_tz": -60
    },
    "id": "2SnZdRrXxKPQ",
    "outputId": "b946fd9b-62a0-4d77-9b6d-59df10d209c2"
   },
   "outputs": [
    {
     "data": {
      "text/html": [
       "<div>\n",
       "<style scoped>\n",
       "    .dataframe tbody tr th:only-of-type {\n",
       "        vertical-align: middle;\n",
       "    }\n",
       "\n",
       "    .dataframe tbody tr th {\n",
       "        vertical-align: top;\n",
       "    }\n",
       "\n",
       "    .dataframe thead th {\n",
       "        text-align: right;\n",
       "    }\n",
       "</style>\n",
       "<table border=\"1\" class=\"dataframe\">\n",
       "  <thead>\n",
       "    <tr style=\"text-align: right;\">\n",
       "      <th></th>\n",
       "      <th>OSEBuildingID</th>\n",
       "      <th>DataYear</th>\n",
       "      <th>BuildingType</th>\n",
       "      <th>PrimaryPropertyType</th>\n",
       "      <th>PropertyName</th>\n",
       "      <th>Address</th>\n",
       "      <th>City</th>\n",
       "      <th>State</th>\n",
       "      <th>ZipCode</th>\n",
       "      <th>TaxParcelIdentificationNumber</th>\n",
       "      <th>CouncilDistrictCode</th>\n",
       "      <th>Neighborhood</th>\n",
       "      <th>Latitude</th>\n",
       "      <th>Longitude</th>\n",
       "      <th>YearBuilt</th>\n",
       "      <th>NumberofBuildings</th>\n",
       "      <th>NumberofFloors</th>\n",
       "      <th>PropertyGFATotal</th>\n",
       "      <th>PropertyGFAParking</th>\n",
       "      <th>PropertyGFABuilding(s)</th>\n",
       "      <th>ListOfAllPropertyUseTypes</th>\n",
       "      <th>LargestPropertyUseType</th>\n",
       "      <th>LargestPropertyUseTypeGFA</th>\n",
       "      <th>SecondLargestPropertyUseType</th>\n",
       "      <th>SecondLargestPropertyUseTypeGFA</th>\n",
       "      <th>ThirdLargestPropertyUseType</th>\n",
       "      <th>ThirdLargestPropertyUseTypeGFA</th>\n",
       "      <th>YearsENERGYSTARCertified</th>\n",
       "      <th>ENERGYSTARScore</th>\n",
       "      <th>SiteEUI(kBtu/sf)</th>\n",
       "      <th>SiteEUIWN(kBtu/sf)</th>\n",
       "      <th>SourceEUI(kBtu/sf)</th>\n",
       "      <th>SourceEUIWN(kBtu/sf)</th>\n",
       "      <th>SiteEnergyUse(kBtu)</th>\n",
       "      <th>SiteEnergyUseWN(kBtu)</th>\n",
       "      <th>SteamUse(kBtu)</th>\n",
       "      <th>Electricity(kWh)</th>\n",
       "      <th>Electricity(kBtu)</th>\n",
       "      <th>NaturalGas(therms)</th>\n",
       "      <th>NaturalGas(kBtu)</th>\n",
       "      <th>DefaultData</th>\n",
       "      <th>Comments</th>\n",
       "      <th>ComplianceStatus</th>\n",
       "      <th>Outlier</th>\n",
       "      <th>TotalGHGEmissions</th>\n",
       "      <th>GHGEmissionsIntensity</th>\n",
       "    </tr>\n",
       "  </thead>\n",
       "  <tbody>\n",
       "    <tr>\n",
       "      <th>0</th>\n",
       "      <td>1</td>\n",
       "      <td>2016</td>\n",
       "      <td>NonResidential</td>\n",
       "      <td>Hotel</td>\n",
       "      <td>Mayflower park hotel</td>\n",
       "      <td>405 Olive way</td>\n",
       "      <td>Seattle</td>\n",
       "      <td>WA</td>\n",
       "      <td>98101.0</td>\n",
       "      <td>659000030</td>\n",
       "      <td>7</td>\n",
       "      <td>DOWNTOWN</td>\n",
       "      <td>47.6122</td>\n",
       "      <td>-122.33799</td>\n",
       "      <td>1927</td>\n",
       "      <td>1.0</td>\n",
       "      <td>12</td>\n",
       "      <td>88434</td>\n",
       "      <td>0</td>\n",
       "      <td>88434</td>\n",
       "      <td>Hotel</td>\n",
       "      <td>Hotel</td>\n",
       "      <td>88434.0</td>\n",
       "      <td>NaN</td>\n",
       "      <td>NaN</td>\n",
       "      <td>NaN</td>\n",
       "      <td>NaN</td>\n",
       "      <td>NaN</td>\n",
       "      <td>60.0</td>\n",
       "      <td>81.699997</td>\n",
       "      <td>84.300003</td>\n",
       "      <td>182.5</td>\n",
       "      <td>189.0</td>\n",
       "      <td>7226362.5</td>\n",
       "      <td>7456910.0</td>\n",
       "      <td>2003882.0</td>\n",
       "      <td>1156514.25</td>\n",
       "      <td>3946027.0</td>\n",
       "      <td>12764.5293</td>\n",
       "      <td>1276453.0</td>\n",
       "      <td>False</td>\n",
       "      <td>NaN</td>\n",
       "      <td>Compliant</td>\n",
       "      <td>NaN</td>\n",
       "      <td>249.98</td>\n",
       "      <td>2.83</td>\n",
       "    </tr>\n",
       "  </tbody>\n",
       "</table>\n",
       "</div>"
      ],
      "text/plain": [
       "   OSEBuildingID  DataYear  ... TotalGHGEmissions GHGEmissionsIntensity\n",
       "0              1      2016  ...            249.98                  2.83\n",
       "\n",
       "[1 rows x 46 columns]"
      ]
     },
     "execution_count": 13,
     "metadata": {
      "tags": []
     },
     "output_type": "execute_result"
    }
   ],
   "source": [
    "data2.head(1)"
   ]
  },
  {
   "cell_type": "markdown",
   "metadata": {
    "colab_type": "text",
    "id": "ev18XkHt2rLW"
   },
   "source": [
    "#Data Cleaning"
   ]
  },
  {
   "cell_type": "markdown",
   "metadata": {
    "colab_type": "text",
    "id": "RlUmMBxINwb7"
   },
   "source": [
    "##Unify \"Location\" format\n",
    "\n",
    "\n"
   ]
  },
  {
   "cell_type": "code",
   "execution_count": null,
   "metadata": {
    "colab": {},
    "colab_type": "code",
    "id": "uH2KfBppN3T3"
   },
   "outputs": [],
   "source": [
    "def charToDict(chaine):\n",
    "  d = ast.literal_eval(chaine)\n",
    "  d[\"human_address\"] = ast.literal_eval(d[\"human_address\"])\n",
    "  return d"
   ]
  },
  {
   "cell_type": "code",
   "execution_count": null,
   "metadata": {
    "colab": {},
    "colab_type": "code",
    "id": "mEvRF6HRHRAl"
   },
   "outputs": [],
   "source": [
    "def decomposeLocation(data):\n",
    "  locations = data[\"Location\"]\n",
    "  latitudes = np.array([charToDict(loc)[\"latitude\"] for loc in locations]).astype(np.float64)\n",
    "  longitudes = np.array([charToDict(loc)[\"latitude\"] for loc in locations]).astype(np.float64)\n",
    "  addresses = [charToDict(loc)[\"human_address\"][\"address\"] for loc in locations]\n",
    "  cities = [charToDict(loc)[\"human_address\"][\"city\"] for loc in locations]\n",
    "  states = [charToDict(loc)[\"human_address\"][\"state\"] for loc in locations]\n",
    "  zips = [charToDict(loc)[\"human_address\"][\"zip\"] for loc in locations]\n",
    "  return {\"Latitude\":latitudes,\"Longitude\":longitudes,\"Address\":addresses,\"City\":cities,\"State\":states,\"ZipCode\":zips}"
   ]
  },
  {
   "cell_type": "code",
   "execution_count": null,
   "metadata": {
    "colab": {},
    "colab_type": "code",
    "id": "M4CjYoGoSJkd"
   },
   "outputs": [],
   "source": [
    "def insertLocations(data, data2):\n",
    "  locationDict = decomposeLocation(data)\n",
    "  i=0\n",
    "  for key in locationDict.keys():\n",
    "    data.insert(list(data2.columns).index(key), key, locationDict[key])\n",
    "  return data"
   ]
  },
  {
   "cell_type": "code",
   "execution_count": null,
   "metadata": {
    "colab": {
     "base_uri": "https://localhost:8080/",
     "height": 270
    },
    "colab_type": "code",
    "executionInfo": {
     "elapsed": 1228,
     "status": "ok",
     "timestamp": 1597344283613,
     "user": {
      "displayName": "Omar Rachidi Lalaoui",
      "photoUrl": "",
      "userId": "03755236871103525465"
     },
     "user_tz": -60
    },
    "id": "MTfPaLb1TAU4",
    "outputId": "8126dfbb-ae70-488a-d661-a7443118ace7"
   },
   "outputs": [
    {
     "name": "stdout",
     "output_type": "stream",
     "text": [
      "(3340, 53)\n"
     ]
    },
    {
     "data": {
      "text/html": [
       "<div>\n",
       "<style scoped>\n",
       "    .dataframe tbody tr th:only-of-type {\n",
       "        vertical-align: middle;\n",
       "    }\n",
       "\n",
       "    .dataframe tbody tr th {\n",
       "        vertical-align: top;\n",
       "    }\n",
       "\n",
       "    .dataframe thead th {\n",
       "        text-align: right;\n",
       "    }\n",
       "</style>\n",
       "<table border=\"1\" class=\"dataframe\">\n",
       "  <thead>\n",
       "    <tr style=\"text-align: right;\">\n",
       "      <th></th>\n",
       "      <th>OSEBuildingID</th>\n",
       "      <th>DataYear</th>\n",
       "      <th>BuildingType</th>\n",
       "      <th>PrimaryPropertyType</th>\n",
       "      <th>PropertyName</th>\n",
       "      <th>Address</th>\n",
       "      <th>City</th>\n",
       "      <th>State</th>\n",
       "      <th>ZipCode</th>\n",
       "      <th>TaxParcelIdentificationNumber</th>\n",
       "      <th>Location</th>\n",
       "      <th>CouncilDistrictCode</th>\n",
       "      <th>Neighborhood</th>\n",
       "      <th>YearBuilt</th>\n",
       "      <th>NumberofBuildings</th>\n",
       "      <th>NumberofFloors</th>\n",
       "      <th>Latitude</th>\n",
       "      <th>Longitude</th>\n",
       "      <th>PropertyGFATotal</th>\n",
       "      <th>PropertyGFAParking</th>\n",
       "      <th>PropertyGFABuilding(s)</th>\n",
       "      <th>ListOfAllPropertyUseTypes</th>\n",
       "      <th>LargestPropertyUseType</th>\n",
       "      <th>LargestPropertyUseTypeGFA</th>\n",
       "      <th>SecondLargestPropertyUseType</th>\n",
       "      <th>SecondLargestPropertyUseTypeGFA</th>\n",
       "      <th>ThirdLargestPropertyUseType</th>\n",
       "      <th>ThirdLargestPropertyUseTypeGFA</th>\n",
       "      <th>YearsENERGYSTARCertified</th>\n",
       "      <th>ENERGYSTARScore</th>\n",
       "      <th>SiteEUI(kBtu/sf)</th>\n",
       "      <th>SiteEUIWN(kBtu/sf)</th>\n",
       "      <th>SourceEUI(kBtu/sf)</th>\n",
       "      <th>SourceEUIWN(kBtu/sf)</th>\n",
       "      <th>SiteEnergyUse(kBtu)</th>\n",
       "      <th>SiteEnergyUseWN(kBtu)</th>\n",
       "      <th>SteamUse(kBtu)</th>\n",
       "      <th>Electricity(kWh)</th>\n",
       "      <th>Electricity(kBtu)</th>\n",
       "      <th>NaturalGas(therms)</th>\n",
       "      <th>NaturalGas(kBtu)</th>\n",
       "      <th>OtherFuelUse(kBtu)</th>\n",
       "      <th>GHGEmissions(MetricTonsCO2e)</th>\n",
       "      <th>GHGEmissionsIntensity(kgCO2e/ft2)</th>\n",
       "      <th>DefaultData</th>\n",
       "      <th>Comment</th>\n",
       "      <th>ComplianceStatus</th>\n",
       "      <th>Outlier</th>\n",
       "      <th>2010 Census Tracts</th>\n",
       "      <th>Seattle Police Department Micro Community Policing Plan Areas</th>\n",
       "      <th>City Council Districts</th>\n",
       "      <th>SPD Beats</th>\n",
       "      <th>Zip Codes</th>\n",
       "    </tr>\n",
       "  </thead>\n",
       "  <tbody>\n",
       "    <tr>\n",
       "      <th>0</th>\n",
       "      <td>1</td>\n",
       "      <td>2015</td>\n",
       "      <td>NonResidential</td>\n",
       "      <td>Hotel</td>\n",
       "      <td>MAYFLOWER PARK HOTEL</td>\n",
       "      <td>405 OLIVE WAY</td>\n",
       "      <td>SEATTLE</td>\n",
       "      <td>WA</td>\n",
       "      <td>98101</td>\n",
       "      <td>659000030</td>\n",
       "      <td>{'latitude': '47.61219025', 'longitude': '-122...</td>\n",
       "      <td>7</td>\n",
       "      <td>DOWNTOWN</td>\n",
       "      <td>1927</td>\n",
       "      <td>1</td>\n",
       "      <td>12.0</td>\n",
       "      <td>47.61219</td>\n",
       "      <td>47.61219</td>\n",
       "      <td>88434</td>\n",
       "      <td>0</td>\n",
       "      <td>88434</td>\n",
       "      <td>Hotel</td>\n",
       "      <td>Hotel</td>\n",
       "      <td>88434.0</td>\n",
       "      <td>NaN</td>\n",
       "      <td>NaN</td>\n",
       "      <td>NaN</td>\n",
       "      <td>NaN</td>\n",
       "      <td>NaN</td>\n",
       "      <td>65.0</td>\n",
       "      <td>78.9</td>\n",
       "      <td>80.3</td>\n",
       "      <td>173.5</td>\n",
       "      <td>175.1</td>\n",
       "      <td>6981428.0</td>\n",
       "      <td>7097539.0</td>\n",
       "      <td>2023032.0</td>\n",
       "      <td>1080307.0</td>\n",
       "      <td>3686160.0</td>\n",
       "      <td>12724.0</td>\n",
       "      <td>1272388.0</td>\n",
       "      <td>0.0</td>\n",
       "      <td>249.43</td>\n",
       "      <td>2.64</td>\n",
       "      <td>No</td>\n",
       "      <td>NaN</td>\n",
       "      <td>Compliant</td>\n",
       "      <td>NaN</td>\n",
       "      <td>NaN</td>\n",
       "      <td>14.0</td>\n",
       "      <td>NaN</td>\n",
       "      <td>31.0</td>\n",
       "      <td>18081</td>\n",
       "    </tr>\n",
       "  </tbody>\n",
       "</table>\n",
       "</div>"
      ],
      "text/plain": [
       "   OSEBuildingID  DataYear  ... SPD Beats Zip Codes\n",
       "0              1      2015  ...      31.0     18081\n",
       "\n",
       "[1 rows x 53 columns]"
      ]
     },
     "execution_count": 17,
     "metadata": {
      "tags": []
     },
     "output_type": "execute_result"
    }
   ],
   "source": [
    "insertLocations(data1, data2)\n",
    "print(data1.shape)\n",
    "data1.head(1)"
   ]
  },
  {
   "cell_type": "code",
   "execution_count": null,
   "metadata": {
    "colab": {},
    "colab_type": "code",
    "id": "QmBUx_5342BM"
   },
   "outputs": [],
   "source": [
    "data1.rename(columns={'Comment': 'Comments', 'GHGEmissions(MetricTonsCO2e)': 'TotalGHGEmissions','GHGEmissionsIntensity(kgCO2e/ft2)':'GHGEmissionsIntensity'}, inplace=True)"
   ]
  },
  {
   "cell_type": "code",
   "execution_count": null,
   "metadata": {
    "colab": {},
    "colab_type": "code",
    "id": "oxqHVpCn6INJ"
   },
   "outputs": [],
   "source": [
    "Irrelevant1=['Location','OtherFuelUse(kBtu)','2010 Census Tracts','Seattle Police Department Micro Community Policing Plan Areas','City Council Districts','SPD Beats','Zip Codes']\n",
    "#data1=data1.drop(Irrelevant1, axis=1)"
   ]
  },
  {
   "cell_type": "code",
   "execution_count": null,
   "metadata": {
    "colab": {},
    "colab_type": "code",
    "id": "j_aYjbey75qK"
   },
   "outputs": [],
   "source": [
    "def dropIrrelevantFeatures(data, features):\n",
    "  return data.drop(features, axis=1)"
   ]
  },
  {
   "cell_type": "code",
   "execution_count": null,
   "metadata": {
    "colab": {
     "base_uri": "https://localhost:8080/",
     "height": 728
    },
    "colab_type": "code",
    "executionInfo": {
     "elapsed": 636,
     "status": "ok",
     "timestamp": 1597344311198,
     "user": {
      "displayName": "Omar Rachidi Lalaoui",
      "photoUrl": "",
      "userId": "03755236871103525465"
     },
     "user_tz": -60
    },
    "id": "8RY3YEETd3Bq",
    "outputId": "341e309c-419c-4dff-cc6e-678aa1753e28"
   },
   "outputs": [
    {
     "data": {
      "text/html": [
       "<div>\n",
       "<style scoped>\n",
       "    .dataframe tbody tr th:only-of-type {\n",
       "        vertical-align: middle;\n",
       "    }\n",
       "\n",
       "    .dataframe tbody tr th {\n",
       "        vertical-align: top;\n",
       "    }\n",
       "\n",
       "    .dataframe thead th {\n",
       "        text-align: right;\n",
       "    }\n",
       "</style>\n",
       "<table border=\"1\" class=\"dataframe\">\n",
       "  <thead>\n",
       "    <tr style=\"text-align: right;\">\n",
       "      <th></th>\n",
       "      <th>OSEBuildingID</th>\n",
       "      <th>DataYear</th>\n",
       "      <th>BuildingType</th>\n",
       "      <th>PrimaryPropertyType</th>\n",
       "      <th>PropertyName</th>\n",
       "      <th>Address</th>\n",
       "      <th>City</th>\n",
       "      <th>State</th>\n",
       "      <th>ZipCode</th>\n",
       "      <th>TaxParcelIdentificationNumber</th>\n",
       "      <th>CouncilDistrictCode</th>\n",
       "      <th>Neighborhood</th>\n",
       "      <th>YearBuilt</th>\n",
       "      <th>NumberofBuildings</th>\n",
       "      <th>NumberofFloors</th>\n",
       "      <th>Latitude</th>\n",
       "      <th>Longitude</th>\n",
       "      <th>PropertyGFATotal</th>\n",
       "      <th>PropertyGFAParking</th>\n",
       "      <th>PropertyGFABuilding(s)</th>\n",
       "      <th>ListOfAllPropertyUseTypes</th>\n",
       "      <th>LargestPropertyUseType</th>\n",
       "      <th>LargestPropertyUseTypeGFA</th>\n",
       "      <th>SecondLargestPropertyUseType</th>\n",
       "      <th>SecondLargestPropertyUseTypeGFA</th>\n",
       "      <th>ThirdLargestPropertyUseType</th>\n",
       "      <th>ThirdLargestPropertyUseTypeGFA</th>\n",
       "      <th>YearsENERGYSTARCertified</th>\n",
       "      <th>ENERGYSTARScore</th>\n",
       "      <th>SiteEUI(kBtu/sf)</th>\n",
       "      <th>SiteEUIWN(kBtu/sf)</th>\n",
       "      <th>SourceEUI(kBtu/sf)</th>\n",
       "      <th>SourceEUIWN(kBtu/sf)</th>\n",
       "      <th>SiteEnergyUse(kBtu)</th>\n",
       "      <th>SiteEnergyUseWN(kBtu)</th>\n",
       "      <th>SteamUse(kBtu)</th>\n",
       "      <th>Electricity(kWh)</th>\n",
       "      <th>Electricity(kBtu)</th>\n",
       "      <th>NaturalGas(therms)</th>\n",
       "      <th>NaturalGas(kBtu)</th>\n",
       "      <th>TotalGHGEmissions</th>\n",
       "      <th>GHGEmissionsIntensity</th>\n",
       "      <th>DefaultData</th>\n",
       "      <th>Comments</th>\n",
       "      <th>ComplianceStatus</th>\n",
       "      <th>Outlier</th>\n",
       "    </tr>\n",
       "  </thead>\n",
       "  <tbody>\n",
       "    <tr>\n",
       "      <th>0</th>\n",
       "      <td>1</td>\n",
       "      <td>2015</td>\n",
       "      <td>NonResidential</td>\n",
       "      <td>Hotel</td>\n",
       "      <td>MAYFLOWER PARK HOTEL</td>\n",
       "      <td>405 OLIVE WAY</td>\n",
       "      <td>SEATTLE</td>\n",
       "      <td>WA</td>\n",
       "      <td>98101</td>\n",
       "      <td>659000030</td>\n",
       "      <td>7</td>\n",
       "      <td>DOWNTOWN</td>\n",
       "      <td>1927</td>\n",
       "      <td>1</td>\n",
       "      <td>12.0</td>\n",
       "      <td>47.612190</td>\n",
       "      <td>47.612190</td>\n",
       "      <td>88434</td>\n",
       "      <td>0</td>\n",
       "      <td>88434</td>\n",
       "      <td>Hotel</td>\n",
       "      <td>Hotel</td>\n",
       "      <td>88434.0</td>\n",
       "      <td>NaN</td>\n",
       "      <td>NaN</td>\n",
       "      <td>NaN</td>\n",
       "      <td>NaN</td>\n",
       "      <td>NaN</td>\n",
       "      <td>65.0</td>\n",
       "      <td>78.9</td>\n",
       "      <td>80.3</td>\n",
       "      <td>173.5</td>\n",
       "      <td>175.1</td>\n",
       "      <td>6981428.0</td>\n",
       "      <td>7097539.0</td>\n",
       "      <td>2023032.0</td>\n",
       "      <td>1080307.0</td>\n",
       "      <td>3686160.0</td>\n",
       "      <td>12724.0</td>\n",
       "      <td>1272388.0</td>\n",
       "      <td>249.43</td>\n",
       "      <td>2.64</td>\n",
       "      <td>No</td>\n",
       "      <td>NaN</td>\n",
       "      <td>Compliant</td>\n",
       "      <td>NaN</td>\n",
       "    </tr>\n",
       "    <tr>\n",
       "      <th>1</th>\n",
       "      <td>2</td>\n",
       "      <td>2015</td>\n",
       "      <td>NonResidential</td>\n",
       "      <td>Hotel</td>\n",
       "      <td>PARAMOUNT HOTEL</td>\n",
       "      <td>724 PINE ST</td>\n",
       "      <td>SEATTLE</td>\n",
       "      <td>WA</td>\n",
       "      <td>98101</td>\n",
       "      <td>659000220</td>\n",
       "      <td>7</td>\n",
       "      <td>DOWNTOWN</td>\n",
       "      <td>1996</td>\n",
       "      <td>1</td>\n",
       "      <td>11.0</td>\n",
       "      <td>47.613106</td>\n",
       "      <td>47.613106</td>\n",
       "      <td>103566</td>\n",
       "      <td>15064</td>\n",
       "      <td>88502</td>\n",
       "      <td>Hotel, Parking, Restaurant</td>\n",
       "      <td>Hotel</td>\n",
       "      <td>83880.0</td>\n",
       "      <td>Parking</td>\n",
       "      <td>15064.0</td>\n",
       "      <td>Restaurant</td>\n",
       "      <td>4622.0</td>\n",
       "      <td>NaN</td>\n",
       "      <td>51.0</td>\n",
       "      <td>94.4</td>\n",
       "      <td>99.0</td>\n",
       "      <td>191.3</td>\n",
       "      <td>195.2</td>\n",
       "      <td>8354235.0</td>\n",
       "      <td>8765788.0</td>\n",
       "      <td>0.0</td>\n",
       "      <td>1144563.0</td>\n",
       "      <td>3905411.0</td>\n",
       "      <td>44490.0</td>\n",
       "      <td>4448985.0</td>\n",
       "      <td>263.51</td>\n",
       "      <td>2.38</td>\n",
       "      <td>No</td>\n",
       "      <td>NaN</td>\n",
       "      <td>Compliant</td>\n",
       "      <td>NaN</td>\n",
       "    </tr>\n",
       "    <tr>\n",
       "      <th>2</th>\n",
       "      <td>3</td>\n",
       "      <td>2015</td>\n",
       "      <td>NonResidential</td>\n",
       "      <td>Hotel</td>\n",
       "      <td>WESTIN HOTEL</td>\n",
       "      <td>1900 5TH AVE</td>\n",
       "      <td>SEATTLE</td>\n",
       "      <td>WA</td>\n",
       "      <td>98101</td>\n",
       "      <td>659000475</td>\n",
       "      <td>7</td>\n",
       "      <td>DOWNTOWN</td>\n",
       "      <td>1969</td>\n",
       "      <td>1</td>\n",
       "      <td>41.0</td>\n",
       "      <td>47.613349</td>\n",
       "      <td>47.613349</td>\n",
       "      <td>961990</td>\n",
       "      <td>0</td>\n",
       "      <td>961990</td>\n",
       "      <td>Hotel, Parking, Swimming Pool</td>\n",
       "      <td>Hotel</td>\n",
       "      <td>757243.0</td>\n",
       "      <td>Parking</td>\n",
       "      <td>100000.0</td>\n",
       "      <td>Swimming Pool</td>\n",
       "      <td>0.0</td>\n",
       "      <td>NaN</td>\n",
       "      <td>18.0</td>\n",
       "      <td>96.6</td>\n",
       "      <td>99.7</td>\n",
       "      <td>242.7</td>\n",
       "      <td>246.5</td>\n",
       "      <td>73130656.0</td>\n",
       "      <td>75506272.0</td>\n",
       "      <td>19660404.0</td>\n",
       "      <td>14583930.0</td>\n",
       "      <td>49762435.0</td>\n",
       "      <td>37099.0</td>\n",
       "      <td>3709900.0</td>\n",
       "      <td>2061.48</td>\n",
       "      <td>1.92</td>\n",
       "      <td>Yes</td>\n",
       "      <td>NaN</td>\n",
       "      <td>Compliant</td>\n",
       "      <td>NaN</td>\n",
       "    </tr>\n",
       "    <tr>\n",
       "      <th>3</th>\n",
       "      <td>5</td>\n",
       "      <td>2015</td>\n",
       "      <td>NonResidential</td>\n",
       "      <td>Hotel</td>\n",
       "      <td>HOTEL MAX</td>\n",
       "      <td>620 STEWART ST</td>\n",
       "      <td>SEATTLE</td>\n",
       "      <td>WA</td>\n",
       "      <td>98101</td>\n",
       "      <td>659000640</td>\n",
       "      <td>7</td>\n",
       "      <td>DOWNTOWN</td>\n",
       "      <td>1926</td>\n",
       "      <td>1</td>\n",
       "      <td>10.0</td>\n",
       "      <td>47.614216</td>\n",
       "      <td>47.614216</td>\n",
       "      <td>61320</td>\n",
       "      <td>0</td>\n",
       "      <td>61320</td>\n",
       "      <td>Hotel</td>\n",
       "      <td>Hotel</td>\n",
       "      <td>61320.0</td>\n",
       "      <td>NaN</td>\n",
       "      <td>NaN</td>\n",
       "      <td>NaN</td>\n",
       "      <td>NaN</td>\n",
       "      <td>NaN</td>\n",
       "      <td>1.0</td>\n",
       "      <td>460.4</td>\n",
       "      <td>462.5</td>\n",
       "      <td>636.3</td>\n",
       "      <td>643.2</td>\n",
       "      <td>28229320.0</td>\n",
       "      <td>28363444.0</td>\n",
       "      <td>23458518.0</td>\n",
       "      <td>811521.0</td>\n",
       "      <td>2769023.0</td>\n",
       "      <td>20019.0</td>\n",
       "      <td>2001894.0</td>\n",
       "      <td>1936.34</td>\n",
       "      <td>31.38</td>\n",
       "      <td>No</td>\n",
       "      <td>NaN</td>\n",
       "      <td>Compliant</td>\n",
       "      <td>High Outlier</td>\n",
       "    </tr>\n",
       "    <tr>\n",
       "      <th>4</th>\n",
       "      <td>8</td>\n",
       "      <td>2015</td>\n",
       "      <td>NonResidential</td>\n",
       "      <td>Hotel</td>\n",
       "      <td>WARWICK SEATTLE HOTEL</td>\n",
       "      <td>401 LENORA ST</td>\n",
       "      <td>SEATTLE</td>\n",
       "      <td>WA</td>\n",
       "      <td>98121</td>\n",
       "      <td>659000970</td>\n",
       "      <td>7</td>\n",
       "      <td>DOWNTOWN</td>\n",
       "      <td>1980</td>\n",
       "      <td>1</td>\n",
       "      <td>18.0</td>\n",
       "      <td>47.613754</td>\n",
       "      <td>47.613754</td>\n",
       "      <td>119890</td>\n",
       "      <td>12460</td>\n",
       "      <td>107430</td>\n",
       "      <td>Hotel, Parking, Swimming Pool</td>\n",
       "      <td>Hotel</td>\n",
       "      <td>123445.0</td>\n",
       "      <td>Parking</td>\n",
       "      <td>68009.0</td>\n",
       "      <td>Swimming Pool</td>\n",
       "      <td>0.0</td>\n",
       "      <td>NaN</td>\n",
       "      <td>67.0</td>\n",
       "      <td>120.1</td>\n",
       "      <td>122.1</td>\n",
       "      <td>228.8</td>\n",
       "      <td>227.1</td>\n",
       "      <td>14829099.0</td>\n",
       "      <td>15078243.0</td>\n",
       "      <td>0.0</td>\n",
       "      <td>1777841.0</td>\n",
       "      <td>6066245.0</td>\n",
       "      <td>87631.0</td>\n",
       "      <td>8763105.0</td>\n",
       "      <td>507.70</td>\n",
       "      <td>4.02</td>\n",
       "      <td>No</td>\n",
       "      <td>NaN</td>\n",
       "      <td>Compliant</td>\n",
       "      <td>NaN</td>\n",
       "    </tr>\n",
       "    <tr>\n",
       "      <th>...</th>\n",
       "      <td>...</td>\n",
       "      <td>...</td>\n",
       "      <td>...</td>\n",
       "      <td>...</td>\n",
       "      <td>...</td>\n",
       "      <td>...</td>\n",
       "      <td>...</td>\n",
       "      <td>...</td>\n",
       "      <td>...</td>\n",
       "      <td>...</td>\n",
       "      <td>...</td>\n",
       "      <td>...</td>\n",
       "      <td>...</td>\n",
       "      <td>...</td>\n",
       "      <td>...</td>\n",
       "      <td>...</td>\n",
       "      <td>...</td>\n",
       "      <td>...</td>\n",
       "      <td>...</td>\n",
       "      <td>...</td>\n",
       "      <td>...</td>\n",
       "      <td>...</td>\n",
       "      <td>...</td>\n",
       "      <td>...</td>\n",
       "      <td>...</td>\n",
       "      <td>...</td>\n",
       "      <td>...</td>\n",
       "      <td>...</td>\n",
       "      <td>...</td>\n",
       "      <td>...</td>\n",
       "      <td>...</td>\n",
       "      <td>...</td>\n",
       "      <td>...</td>\n",
       "      <td>...</td>\n",
       "      <td>...</td>\n",
       "      <td>...</td>\n",
       "      <td>...</td>\n",
       "      <td>...</td>\n",
       "      <td>...</td>\n",
       "      <td>...</td>\n",
       "      <td>...</td>\n",
       "      <td>...</td>\n",
       "      <td>...</td>\n",
       "      <td>...</td>\n",
       "      <td>...</td>\n",
       "      <td>...</td>\n",
       "    </tr>\n",
       "    <tr>\n",
       "      <th>3335</th>\n",
       "      <td>50049</td>\n",
       "      <td>2015</td>\n",
       "      <td>Multifamily LR (1-4)</td>\n",
       "      <td>Low-Rise Multifamily</td>\n",
       "      <td>PACIFIC CENTER CONDOMINIUM</td>\n",
       "      <td>321 10TH AVE S</td>\n",
       "      <td>SEATTLE</td>\n",
       "      <td>WA</td>\n",
       "      <td>98104</td>\n",
       "      <td>6599950000</td>\n",
       "      <td>2</td>\n",
       "      <td>DOWNTOWN</td>\n",
       "      <td>2000</td>\n",
       "      <td>1</td>\n",
       "      <td>4.0</td>\n",
       "      <td>47.599503</td>\n",
       "      <td>47.599503</td>\n",
       "      <td>44650</td>\n",
       "      <td>0</td>\n",
       "      <td>44650</td>\n",
       "      <td>Multifamily Housing</td>\n",
       "      <td>Multifamily Housing</td>\n",
       "      <td>44650.0</td>\n",
       "      <td>NaN</td>\n",
       "      <td>NaN</td>\n",
       "      <td>NaN</td>\n",
       "      <td>NaN</td>\n",
       "      <td>NaN</td>\n",
       "      <td>71.0</td>\n",
       "      <td>25.6</td>\n",
       "      <td>27.8</td>\n",
       "      <td>80.4</td>\n",
       "      <td>87.2</td>\n",
       "      <td>1142949.0</td>\n",
       "      <td>1240429.0</td>\n",
       "      <td>0.0</td>\n",
       "      <td>334979.0</td>\n",
       "      <td>1142996.0</td>\n",
       "      <td>0.0</td>\n",
       "      <td>0.0</td>\n",
       "      <td>7.97</td>\n",
       "      <td>0.07</td>\n",
       "      <td>No</td>\n",
       "      <td>NaN</td>\n",
       "      <td>Compliant</td>\n",
       "      <td>NaN</td>\n",
       "    </tr>\n",
       "    <tr>\n",
       "      <th>3336</th>\n",
       "      <td>50055</td>\n",
       "      <td>2015</td>\n",
       "      <td>Multifamily MR (5-9)</td>\n",
       "      <td>Mid-Rise Multifamily</td>\n",
       "      <td>IDENTITY APTS 4123</td>\n",
       "      <td>4123 12TH AVE NE</td>\n",
       "      <td>SEATTLE</td>\n",
       "      <td>WA</td>\n",
       "      <td>98105</td>\n",
       "      <td>1142001670</td>\n",
       "      <td>4</td>\n",
       "      <td>NORTHEAST</td>\n",
       "      <td>2014</td>\n",
       "      <td>1</td>\n",
       "      <td>7.0</td>\n",
       "      <td>47.657525</td>\n",
       "      <td>47.657525</td>\n",
       "      <td>42393</td>\n",
       "      <td>0</td>\n",
       "      <td>42393</td>\n",
       "      <td>Multifamily Housing</td>\n",
       "      <td>Multifamily Housing</td>\n",
       "      <td>31748.0</td>\n",
       "      <td>NaN</td>\n",
       "      <td>NaN</td>\n",
       "      <td>NaN</td>\n",
       "      <td>NaN</td>\n",
       "      <td>NaN</td>\n",
       "      <td>98.0</td>\n",
       "      <td>48.6</td>\n",
       "      <td>55.1</td>\n",
       "      <td>124.2</td>\n",
       "      <td>144.7</td>\n",
       "      <td>1543282.0</td>\n",
       "      <td>1750143.0</td>\n",
       "      <td>0.0</td>\n",
       "      <td>325705.0</td>\n",
       "      <td>1111352.0</td>\n",
       "      <td>4320.0</td>\n",
       "      <td>431976.0</td>\n",
       "      <td>30.69</td>\n",
       "      <td>0.61</td>\n",
       "      <td>No</td>\n",
       "      <td>NaN</td>\n",
       "      <td>Compliant</td>\n",
       "      <td>NaN</td>\n",
       "    </tr>\n",
       "    <tr>\n",
       "      <th>3337</th>\n",
       "      <td>50057</td>\n",
       "      <td>2015</td>\n",
       "      <td>Multifamily HR (10+)</td>\n",
       "      <td>High-Rise Multifamily</td>\n",
       "      <td>CIRRUS</td>\n",
       "      <td>2030 8TH AVE</td>\n",
       "      <td>SEATTLE</td>\n",
       "      <td>WA</td>\n",
       "      <td>98121</td>\n",
       "      <td>660000575</td>\n",
       "      <td>7</td>\n",
       "      <td>DOWNTOWN</td>\n",
       "      <td>2015</td>\n",
       "      <td>1</td>\n",
       "      <td>40.0</td>\n",
       "      <td>47.616498</td>\n",
       "      <td>47.616498</td>\n",
       "      <td>319481</td>\n",
       "      <td>41915</td>\n",
       "      <td>277566</td>\n",
       "      <td>Multifamily Housing, Parking</td>\n",
       "      <td>NaN</td>\n",
       "      <td>NaN</td>\n",
       "      <td>NaN</td>\n",
       "      <td>NaN</td>\n",
       "      <td>NaN</td>\n",
       "      <td>NaN</td>\n",
       "      <td>NaN</td>\n",
       "      <td>79.0</td>\n",
       "      <td>52.7</td>\n",
       "      <td>61.4</td>\n",
       "      <td>93.1</td>\n",
       "      <td>102.2</td>\n",
       "      <td>16834414.0</td>\n",
       "      <td>19623362.0</td>\n",
       "      <td>0.0</td>\n",
       "      <td>1690364.0</td>\n",
       "      <td>5767761.0</td>\n",
       "      <td>110669.0</td>\n",
       "      <td>11066893.0</td>\n",
       "      <td>627.97</td>\n",
       "      <td>1.89</td>\n",
       "      <td>No</td>\n",
       "      <td>NaN</td>\n",
       "      <td>Compliant</td>\n",
       "      <td>NaN</td>\n",
       "    </tr>\n",
       "    <tr>\n",
       "      <th>3338</th>\n",
       "      <td>50058</td>\n",
       "      <td>2015</td>\n",
       "      <td>Multifamily LR (1-4)</td>\n",
       "      <td>Low-Rise Multifamily</td>\n",
       "      <td>WEDGEWOOD ESTATES BLDG A</td>\n",
       "      <td>3801 NE 77TH ST</td>\n",
       "      <td>SEATTLE</td>\n",
       "      <td>WA</td>\n",
       "      <td>98115</td>\n",
       "      <td>6392001040</td>\n",
       "      <td>4</td>\n",
       "      <td>NORTHEAST</td>\n",
       "      <td>1981</td>\n",
       "      <td>1</td>\n",
       "      <td>3.0</td>\n",
       "      <td>47.683970</td>\n",
       "      <td>47.683970</td>\n",
       "      <td>48230</td>\n",
       "      <td>0</td>\n",
       "      <td>48230</td>\n",
       "      <td>Multifamily Housing</td>\n",
       "      <td>Multifamily Housing</td>\n",
       "      <td>22310.0</td>\n",
       "      <td>NaN</td>\n",
       "      <td>NaN</td>\n",
       "      <td>NaN</td>\n",
       "      <td>NaN</td>\n",
       "      <td>NaN</td>\n",
       "      <td>44.0</td>\n",
       "      <td>34.8</td>\n",
       "      <td>38.1</td>\n",
       "      <td>109.4</td>\n",
       "      <td>119.5</td>\n",
       "      <td>777064.0</td>\n",
       "      <td>849250.0</td>\n",
       "      <td>0.0</td>\n",
       "      <td>227744.0</td>\n",
       "      <td>777096.0</td>\n",
       "      <td>0.0</td>\n",
       "      <td>0.0</td>\n",
       "      <td>5.42</td>\n",
       "      <td>0.04</td>\n",
       "      <td>No</td>\n",
       "      <td>NaN</td>\n",
       "      <td>Compliant</td>\n",
       "      <td>NaN</td>\n",
       "    </tr>\n",
       "    <tr>\n",
       "      <th>3339</th>\n",
       "      <td>50059</td>\n",
       "      <td>2015</td>\n",
       "      <td>Multifamily LR (1-4)</td>\n",
       "      <td>Low-Rise Multifamily</td>\n",
       "      <td>WEDGEWOOD ESTATES BLDG B</td>\n",
       "      <td>7540 37TH AVE NE</td>\n",
       "      <td>SEATTLE</td>\n",
       "      <td>WA</td>\n",
       "      <td>98115</td>\n",
       "      <td>6392001040</td>\n",
       "      <td>4</td>\n",
       "      <td>NORTHEAST</td>\n",
       "      <td>1981</td>\n",
       "      <td>1</td>\n",
       "      <td>4.0</td>\n",
       "      <td>47.683970</td>\n",
       "      <td>47.683970</td>\n",
       "      <td>53100</td>\n",
       "      <td>0</td>\n",
       "      <td>53100</td>\n",
       "      <td>Multifamily Housing</td>\n",
       "      <td>Multifamily Housing</td>\n",
       "      <td>25265.0</td>\n",
       "      <td>NaN</td>\n",
       "      <td>NaN</td>\n",
       "      <td>NaN</td>\n",
       "      <td>NaN</td>\n",
       "      <td>NaN</td>\n",
       "      <td>24.0</td>\n",
       "      <td>38.2</td>\n",
       "      <td>41.7</td>\n",
       "      <td>120.1</td>\n",
       "      <td>130.9</td>\n",
       "      <td>966376.0</td>\n",
       "      <td>1053118.0</td>\n",
       "      <td>0.0</td>\n",
       "      <td>283229.0</td>\n",
       "      <td>966416.0</td>\n",
       "      <td>0.0</td>\n",
       "      <td>0.0</td>\n",
       "      <td>6.74</td>\n",
       "      <td>0.05</td>\n",
       "      <td>No</td>\n",
       "      <td>NaN</td>\n",
       "      <td>Compliant</td>\n",
       "      <td>NaN</td>\n",
       "    </tr>\n",
       "  </tbody>\n",
       "</table>\n",
       "<p>3340 rows × 46 columns</p>\n",
       "</div>"
      ],
      "text/plain": [
       "      OSEBuildingID  DataYear  ... ComplianceStatus       Outlier\n",
       "0                 1      2015  ...        Compliant           NaN\n",
       "1                 2      2015  ...        Compliant           NaN\n",
       "2                 3      2015  ...        Compliant           NaN\n",
       "3                 5      2015  ...        Compliant  High Outlier\n",
       "4                 8      2015  ...        Compliant           NaN\n",
       "...             ...       ...  ...              ...           ...\n",
       "3335          50049      2015  ...        Compliant           NaN\n",
       "3336          50055      2015  ...        Compliant           NaN\n",
       "3337          50057      2015  ...        Compliant           NaN\n",
       "3338          50058      2015  ...        Compliant           NaN\n",
       "3339          50059      2015  ...        Compliant           NaN\n",
       "\n",
       "[3340 rows x 46 columns]"
      ]
     },
     "execution_count": 22,
     "metadata": {
      "tags": []
     },
     "output_type": "execute_result"
    }
   ],
   "source": [
    "dropIrrelevantFeatures(data1, Irrelevant1)"
   ]
  },
  {
   "cell_type": "code",
   "execution_count": null,
   "metadata": {
    "colab": {},
    "colab_type": "code",
    "id": "yUrhinJU0HY2"
   },
   "outputs": [],
   "source": [
    "def Rename_variables(data, old_variable, new_variable):\n",
    "  print(list(data.columns))\n",
    "  data.insert(list(data.columns).index(old_variable), new_variable, data[old_variable])\n",
    "  data_rename=data.drop([old_variable], axis=1)\n",
    "  return data_rename"
   ]
  },
  {
   "cell_type": "code",
   "execution_count": null,
   "metadata": {
    "colab": {},
    "colab_type": "code",
    "id": "SUoLh4_v1uKR"
   },
   "outputs": [],
   "source": [
    "#Rename_variables(data1, 'Comment', 'Comments')\n",
    "#print(data_rename.head(1))"
   ]
  },
  {
   "cell_type": "code",
   "execution_count": null,
   "metadata": {
    "colab": {},
    "colab_type": "code",
    "id": "dSY2w6cF_HkK"
   },
   "outputs": [],
   "source": [
    "frames=[data1,data2]\n",
    "data_mix=pd.concat(frames)"
   ]
  },
  {
   "cell_type": "code",
   "execution_count": null,
   "metadata": {
    "colab": {
     "base_uri": "https://localhost:8080/",
     "height": 253
    },
    "colab_type": "code",
    "executionInfo": {
     "elapsed": 561,
     "status": "ok",
     "timestamp": 1597344323139,
     "user": {
      "displayName": "Omar Rachidi Lalaoui",
      "photoUrl": "",
      "userId": "03755236871103525465"
     },
     "user_tz": -60
    },
    "id": "YVeA2zJr_38S",
    "outputId": "56e93071-3f5c-4b94-d7cd-28b7e58f68de"
   },
   "outputs": [
    {
     "name": "stdout",
     "output_type": "stream",
     "text": [
      "(6716, 53)\n"
     ]
    },
    {
     "data": {
      "text/html": [
       "<div>\n",
       "<style scoped>\n",
       "    .dataframe tbody tr th:only-of-type {\n",
       "        vertical-align: middle;\n",
       "    }\n",
       "\n",
       "    .dataframe tbody tr th {\n",
       "        vertical-align: top;\n",
       "    }\n",
       "\n",
       "    .dataframe thead th {\n",
       "        text-align: right;\n",
       "    }\n",
       "</style>\n",
       "<table border=\"1\" class=\"dataframe\">\n",
       "  <thead>\n",
       "    <tr style=\"text-align: right;\">\n",
       "      <th></th>\n",
       "      <th>OSEBuildingID</th>\n",
       "      <th>DataYear</th>\n",
       "      <th>BuildingType</th>\n",
       "      <th>PrimaryPropertyType</th>\n",
       "      <th>PropertyName</th>\n",
       "      <th>Address</th>\n",
       "      <th>City</th>\n",
       "      <th>State</th>\n",
       "      <th>ZipCode</th>\n",
       "      <th>TaxParcelIdentificationNumber</th>\n",
       "      <th>CouncilDistrictCode</th>\n",
       "      <th>Neighborhood</th>\n",
       "      <th>YearBuilt</th>\n",
       "      <th>NumberofBuildings</th>\n",
       "      <th>NumberofFloors</th>\n",
       "      <th>Latitude</th>\n",
       "      <th>Longitude</th>\n",
       "      <th>PropertyGFATotal</th>\n",
       "      <th>PropertyGFAParking</th>\n",
       "      <th>PropertyGFABuilding(s)</th>\n",
       "      <th>ListOfAllPropertyUseTypes</th>\n",
       "      <th>LargestPropertyUseType</th>\n",
       "      <th>LargestPropertyUseTypeGFA</th>\n",
       "      <th>SecondLargestPropertyUseType</th>\n",
       "      <th>SecondLargestPropertyUseTypeGFA</th>\n",
       "      <th>ThirdLargestPropertyUseType</th>\n",
       "      <th>ThirdLargestPropertyUseTypeGFA</th>\n",
       "      <th>YearsENERGYSTARCertified</th>\n",
       "      <th>ENERGYSTARScore</th>\n",
       "      <th>SiteEUI(kBtu/sf)</th>\n",
       "      <th>SiteEUIWN(kBtu/sf)</th>\n",
       "      <th>SourceEUI(kBtu/sf)</th>\n",
       "      <th>SourceEUIWN(kBtu/sf)</th>\n",
       "      <th>SiteEnergyUse(kBtu)</th>\n",
       "      <th>SiteEnergyUseWN(kBtu)</th>\n",
       "      <th>SteamUse(kBtu)</th>\n",
       "      <th>Electricity(kWh)</th>\n",
       "      <th>Electricity(kBtu)</th>\n",
       "      <th>NaturalGas(therms)</th>\n",
       "      <th>NaturalGas(kBtu)</th>\n",
       "      <th>OtherFuelUse(kBtu)</th>\n",
       "      <th>TotalGHGEmissions</th>\n",
       "      <th>GHGEmissionsIntensity</th>\n",
       "      <th>DefaultData</th>\n",
       "      <th>Comments</th>\n",
       "      <th>ComplianceStatus</th>\n",
       "      <th>Outlier</th>\n",
       "      <th>2010 Census Tracts</th>\n",
       "      <th>Seattle Police Department Micro Community Policing Plan Areas</th>\n",
       "      <th>City Council Districts</th>\n",
       "      <th>SPD Beats</th>\n",
       "      <th>Zip Codes</th>\n",
       "    </tr>\n",
       "  </thead>\n",
       "  <tbody>\n",
       "    <tr>\n",
       "      <th>0</th>\n",
       "      <td>1</td>\n",
       "      <td>2015</td>\n",
       "      <td>NonResidential</td>\n",
       "      <td>Hotel</td>\n",
       "      <td>MAYFLOWER PARK HOTEL</td>\n",
       "      <td>405 OLIVE WAY</td>\n",
       "      <td>SEATTLE</td>\n",
       "      <td>WA</td>\n",
       "      <td>98101</td>\n",
       "      <td>659000030</td>\n",
       "      <td>7</td>\n",
       "      <td>DOWNTOWN</td>\n",
       "      <td>1927</td>\n",
       "      <td>1.0</td>\n",
       "      <td>12.0</td>\n",
       "      <td>47.61219</td>\n",
       "      <td>47.61219</td>\n",
       "      <td>88434</td>\n",
       "      <td>0</td>\n",
       "      <td>88434</td>\n",
       "      <td>Hotel</td>\n",
       "      <td>Hotel</td>\n",
       "      <td>88434.0</td>\n",
       "      <td>NaN</td>\n",
       "      <td>NaN</td>\n",
       "      <td>NaN</td>\n",
       "      <td>NaN</td>\n",
       "      <td>NaN</td>\n",
       "      <td>65.0</td>\n",
       "      <td>78.9</td>\n",
       "      <td>80.3</td>\n",
       "      <td>173.5</td>\n",
       "      <td>175.1</td>\n",
       "      <td>6981428.0</td>\n",
       "      <td>7097539.0</td>\n",
       "      <td>2023032.0</td>\n",
       "      <td>1080307.0</td>\n",
       "      <td>3686160.0</td>\n",
       "      <td>12724.0</td>\n",
       "      <td>1272388.0</td>\n",
       "      <td>0.0</td>\n",
       "      <td>249.43</td>\n",
       "      <td>2.64</td>\n",
       "      <td>No</td>\n",
       "      <td>NaN</td>\n",
       "      <td>Compliant</td>\n",
       "      <td>NaN</td>\n",
       "      <td>NaN</td>\n",
       "      <td>14.0</td>\n",
       "      <td>NaN</td>\n",
       "      <td>31.0</td>\n",
       "      <td>18081.0</td>\n",
       "    </tr>\n",
       "  </tbody>\n",
       "</table>\n",
       "</div>"
      ],
      "text/plain": [
       "   OSEBuildingID  DataYear  ... SPD Beats Zip Codes\n",
       "0              1      2015  ...      31.0   18081.0\n",
       "\n",
       "[1 rows x 52 columns]"
      ]
     },
     "execution_count": 26,
     "metadata": {
      "tags": []
     },
     "output_type": "execute_result"
    }
   ],
   "source": [
    "print(data_mix.shape)\n",
    "data_mix = data_mix.drop([\"Location\"], axis=1)\n",
    "data_mix.head(1)"
   ]
  },
  {
   "cell_type": "markdown",
   "metadata": {
    "colab_type": "text",
    "id": "ZYd63JqY22Vt"
   },
   "source": [
    "##Remove NAN Values"
   ]
  },
  {
   "cell_type": "code",
   "execution_count": null,
   "metadata": {
    "colab": {},
    "colab_type": "code",
    "id": "yrN7NufXM74j"
   },
   "outputs": [],
   "source": [
    "def graph_taux_de_remplissage(data,rate=0.8):\n",
    "  taux_de_remplissage = calculateFillRate(data)\n",
    "  nbr_columns = len(data.columns)\n",
    "  x = np.linspace(0, nbr_columns, nbr_columns)\n",
    "  y = taux_de_remplissage\n",
    "  z = [rate*100 for i in range(nbr_columns)]\n",
    "  plt.figure(figsize=(20,6))\n",
    "  plt.scatter(x,y)\n",
    "  plt.plot(x,z, color='red')\n",
    "  plt.show()"
   ]
  },
  {
   "cell_type": "code",
   "execution_count": null,
   "metadata": {
    "colab": {},
    "colab_type": "code",
    "id": "qHrLqmgSNKGE"
   },
   "outputs": [],
   "source": [
    "def calculateFillRate(data):\n",
    "  nbr_rows = len(data.index)\n",
    "  nbr_columns = len(data.columns)\n",
    "  fillRate = []\n",
    "  for column in data.columns:\n",
    "    fillRate.append(100 * (nbr_rows - data[column].isna().sum()) / nbr_rows)\n",
    "  return fillRate"
   ]
  },
  {
   "cell_type": "code",
   "execution_count": null,
   "metadata": {
    "colab": {
     "base_uri": "https://localhost:8080/",
     "height": 374
    },
    "colab_type": "code",
    "executionInfo": {
     "elapsed": 1485,
     "status": "ok",
     "timestamp": 1597345439818,
     "user": {
      "displayName": "Omar Rachidi Lalaoui",
      "photoUrl": "",
      "userId": "03755236871103525465"
     },
     "user_tz": -60
    },
    "id": "ygzDd_0qM90N",
    "outputId": "e37cb656-f585-4758-9aab-aa32e8b4ce6c"
   },
   "outputs": [
    {
     "data": {
      "image/png": "[encoded data removed]",
      "text/plain": [
       "<Figure size 1440x432 with 1 Axes>"
      ]
     },
     "metadata": {
      "needs_background": "light",
      "tags": []
     },
     "output_type": "display_data"
    }
   ],
   "source": [
    "graph_taux_de_remplissage(data1)"
   ]
  },
  {
   "cell_type": "code",
   "execution_count": null,
   "metadata": {
    "colab": {
     "base_uri": "https://localhost:8080/",
     "height": 221
    },
    "colab_type": "code",
    "executionInfo": {
     "elapsed": 2716,
     "status": "ok",
     "timestamp": 1597345444238,
     "user": {
      "displayName": "Omar Rachidi Lalaoui",
      "photoUrl": "",
      "userId": "03755236871103525465"
     },
     "user_tz": -60
    },
    "id": "-OzjyWuLyNQT",
    "outputId": "66131579-c47e-481f-af46-21f19ec7a0f7"
   },
   "outputs": [
    {
     "name": "stdout",
     "output_type": "stream",
     "text": [
      "Location\n",
      "OtherFuelUse(kBtu)\n",
      "2010 Census Tracts\n",
      "Seattle Police Department Micro Community Policing Plan Areas\n",
      "City Council Districts\n",
      "SPD Beats\n",
      "Zip Codes\n",
      "\n",
      "\n",
      "0\n",
      "\n",
      "\n"
     ]
    }
   ],
   "source": [
    "compteur=0\n",
    "for colonne1 in data1.columns:\n",
    "  compteur=0\n",
    "  for colonne2 in data2.columns:\n",
    "    if colonne1==colonne2:\n",
    "      compteur+=1\n",
    "      compteur+=1\n",
    "  if compteur==0:\n",
    "    print(colonne1)\n",
    "\n",
    "print('\\n')\n",
    "print(compteur)\n",
    "print('\\n')\n",
    "\n",
    "for colonne2 in data2.columns:\n",
    "  compteur=0\n",
    "  for colonne1 in data1.columns:\n",
    "    if colonne1==colonne2:\n",
    "      compteur+=1\n",
    "  if compteur==0:\n",
    "    print(colonne2)"
   ]
  },
  {
   "cell_type": "code",
   "execution_count": null,
   "metadata": {
    "colab": {
     "base_uri": "https://localhost:8080/",
     "height": 374
    },
    "colab_type": "code",
    "executionInfo": {
     "elapsed": 3086,
     "status": "ok",
     "timestamp": 1597345447593,
     "user": {
      "displayName": "Omar Rachidi Lalaoui",
      "photoUrl": "",
      "userId": "03755236871103525465"
     },
     "user_tz": -60
    },
    "id": "wV00HmBzAWoL",
    "outputId": "e68f5df6-ed25-45b5-a795-27f759435f34"
   },
   "outputs": [
    {
     "data": {
      "image/png": "[encoded data removed]",
      "text/plain": [
       "<Figure size 1440x432 with 1 Axes>"
      ]
     },
     "metadata": {
      "needs_background": "light",
      "tags": []
     },
     "output_type": "display_data"
    }
   ],
   "source": [
    "graph_taux_de_remplissage(data_mix)"
   ]
  },
  {
   "cell_type": "code",
   "execution_count": null,
   "metadata": {
    "colab": {
     "base_uri": "https://localhost:8080/",
     "height": 34
    },
    "colab_type": "code",
    "executionInfo": {
     "elapsed": 3839,
     "status": "ok",
     "timestamp": 1597345453696,
     "user": {
      "displayName": "Omar Rachidi Lalaoui",
      "photoUrl": "",
      "userId": "03755236871103525465"
     },
     "user_tz": -60
    },
    "id": "xs0jaCTUAzxM",
    "outputId": "1ec27d94-1e9c-4115-9465-5b20cac85f8b"
   },
   "outputs": [
    {
     "data": {
      "text/plain": [
       "<Figure size 432x288 with 0 Axes>"
      ]
     },
     "metadata": {
      "tags": []
     },
     "output_type": "display_data"
    }
   ],
   "source": [
    "plt.savefig(path+ \"taux_de_remplissage.png\")"
   ]
  },
  {
   "cell_type": "code",
   "execution_count": null,
   "metadata": {
    "colab": {
     "base_uri": "https://localhost:8080/",
     "height": 238
    },
    "colab_type": "code",
    "executionInfo": {
     "elapsed": 3449,
     "status": "ok",
     "timestamp": 1597345453697,
     "user": {
      "displayName": "Omar Rachidi Lalaoui",
      "photoUrl": "",
      "userId": "03755236871103525465"
     },
     "user_tz": -60
    },
    "id": "9yeO7mb3AiSH",
    "outputId": "1bc8d716-fe4c-49ee-d4ec-fbcdbf6e0be8"
   },
   "outputs": [
    {
     "data": {
      "text/plain": [
       "['SecondLargestPropertyUseType',\n",
       " 'SecondLargestPropertyUseTypeGFA',\n",
       " 'ThirdLargestPropertyUseType',\n",
       " 'ThirdLargestPropertyUseTypeGFA',\n",
       " 'YearsENERGYSTARCertified',\n",
       " 'OtherFuelUse(kBtu)',\n",
       " 'Comments',\n",
       " 'Outlier',\n",
       " '2010 Census Tracts',\n",
       " 'Seattle Police Department Micro Community Policing Plan Areas',\n",
       " 'City Council Districts',\n",
       " 'SPD Beats',\n",
       " 'Zip Codes']"
      ]
     },
     "execution_count": 33,
     "metadata": {
      "tags": []
     },
     "output_type": "execute_result"
    }
   ],
   "source": [
    "def Features_under_the_rate(data,rate=0.8):\n",
    "  Features_under_the_rate=[]\n",
    "  nbr_rows = len(data.index)\n",
    "  nbr_columns = len(data.columns)\n",
    "  for column in data.columns:\n",
    "    if 100*(nbr_rows-data[column].isna().sum()) / nbr_rows<rate*100:\n",
    "      Features_under_the_rate.append(column)\n",
    "  return Features_under_the_rate\n",
    "\n",
    "Features_under_the_rate(data_mix,rate=0.7)"
   ]
  },
  {
   "cell_type": "code",
   "execution_count": null,
   "metadata": {
    "colab": {},
    "colab_type": "code",
    "id": "KKmGBsH4sSP5"
   },
   "outputs": [],
   "source": [
    "data_mix=data_mix.drop(Features_under_the_rate(data_mix,rate=0.7), axis=1)"
   ]
  },
  {
   "cell_type": "code",
   "execution_count": null,
   "metadata": {
    "colab": {
     "base_uri": "https://localhost:8080/",
     "height": 151
    },
    "colab_type": "code",
    "executionInfo": {
     "elapsed": 928,
     "status": "ok",
     "timestamp": 1597345457213,
     "user": {
      "displayName": "Omar Rachidi Lalaoui",
      "photoUrl": "",
      "userId": "03755236871103525465"
     },
     "user_tz": -60
    },
    "id": "Z3PyhnyxsfUe",
    "outputId": "fcb3ab19-f6ed-431e-ca9a-664991de0f03"
   },
   "outputs": [
    {
     "name": "stdout",
     "output_type": "stream",
     "text": [
      "(6716, 39)\n"
     ]
    },
    {
     "data": {
      "text/html": [
       "<div>\n",
       "<style scoped>\n",
       "    .dataframe tbody tr th:only-of-type {\n",
       "        vertical-align: middle;\n",
       "    }\n",
       "\n",
       "    .dataframe tbody tr th {\n",
       "        vertical-align: top;\n",
       "    }\n",
       "\n",
       "    .dataframe thead th {\n",
       "        text-align: right;\n",
       "    }\n",
       "</style>\n",
       "<table border=\"1\" class=\"dataframe\">\n",
       "  <thead>\n",
       "    <tr style=\"text-align: right;\">\n",
       "      <th></th>\n",
       "      <th>OSEBuildingID</th>\n",
       "      <th>DataYear</th>\n",
       "      <th>BuildingType</th>\n",
       "      <th>PrimaryPropertyType</th>\n",
       "      <th>PropertyName</th>\n",
       "      <th>Address</th>\n",
       "      <th>City</th>\n",
       "      <th>State</th>\n",
       "      <th>ZipCode</th>\n",
       "      <th>TaxParcelIdentificationNumber</th>\n",
       "      <th>CouncilDistrictCode</th>\n",
       "      <th>Neighborhood</th>\n",
       "      <th>YearBuilt</th>\n",
       "      <th>NumberofBuildings</th>\n",
       "      <th>NumberofFloors</th>\n",
       "      <th>Latitude</th>\n",
       "      <th>Longitude</th>\n",
       "      <th>PropertyGFATotal</th>\n",
       "      <th>PropertyGFAParking</th>\n",
       "      <th>PropertyGFABuilding(s)</th>\n",
       "      <th>ListOfAllPropertyUseTypes</th>\n",
       "      <th>LargestPropertyUseType</th>\n",
       "      <th>LargestPropertyUseTypeGFA</th>\n",
       "      <th>ENERGYSTARScore</th>\n",
       "      <th>SiteEUI(kBtu/sf)</th>\n",
       "      <th>SiteEUIWN(kBtu/sf)</th>\n",
       "      <th>SourceEUI(kBtu/sf)</th>\n",
       "      <th>SourceEUIWN(kBtu/sf)</th>\n",
       "      <th>SiteEnergyUse(kBtu)</th>\n",
       "      <th>SiteEnergyUseWN(kBtu)</th>\n",
       "      <th>SteamUse(kBtu)</th>\n",
       "      <th>Electricity(kWh)</th>\n",
       "      <th>Electricity(kBtu)</th>\n",
       "      <th>NaturalGas(therms)</th>\n",
       "      <th>NaturalGas(kBtu)</th>\n",
       "      <th>TotalGHGEmissions</th>\n",
       "      <th>GHGEmissionsIntensity</th>\n",
       "      <th>DefaultData</th>\n",
       "      <th>ComplianceStatus</th>\n",
       "    </tr>\n",
       "  </thead>\n",
       "  <tbody>\n",
       "    <tr>\n",
       "      <th>0</th>\n",
       "      <td>1</td>\n",
       "      <td>2015</td>\n",
       "      <td>NonResidential</td>\n",
       "      <td>Hotel</td>\n",
       "      <td>MAYFLOWER PARK HOTEL</td>\n",
       "      <td>405 OLIVE WAY</td>\n",
       "      <td>SEATTLE</td>\n",
       "      <td>WA</td>\n",
       "      <td>98101</td>\n",
       "      <td>659000030</td>\n",
       "      <td>7</td>\n",
       "      <td>DOWNTOWN</td>\n",
       "      <td>1927</td>\n",
       "      <td>1.0</td>\n",
       "      <td>12.0</td>\n",
       "      <td>47.61219</td>\n",
       "      <td>47.61219</td>\n",
       "      <td>88434</td>\n",
       "      <td>0</td>\n",
       "      <td>88434</td>\n",
       "      <td>Hotel</td>\n",
       "      <td>Hotel</td>\n",
       "      <td>88434.0</td>\n",
       "      <td>65.0</td>\n",
       "      <td>78.9</td>\n",
       "      <td>80.3</td>\n",
       "      <td>173.5</td>\n",
       "      <td>175.1</td>\n",
       "      <td>6981428.0</td>\n",
       "      <td>7097539.0</td>\n",
       "      <td>2023032.0</td>\n",
       "      <td>1080307.0</td>\n",
       "      <td>3686160.0</td>\n",
       "      <td>12724.0</td>\n",
       "      <td>1272388.0</td>\n",
       "      <td>249.43</td>\n",
       "      <td>2.64</td>\n",
       "      <td>No</td>\n",
       "      <td>Compliant</td>\n",
       "    </tr>\n",
       "  </tbody>\n",
       "</table>\n",
       "</div>"
      ],
      "text/plain": [
       "   OSEBuildingID  DataYear  ... DefaultData ComplianceStatus\n",
       "0              1      2015  ...          No        Compliant\n",
       "\n",
       "[1 rows x 39 columns]"
      ]
     },
     "execution_count": 35,
     "metadata": {
      "tags": []
     },
     "output_type": "execute_result"
    }
   ],
   "source": [
    "print(data_mix.shape)\n",
    "data_mix.head(1)"
   ]
  },
  {
   "cell_type": "code",
   "execution_count": null,
   "metadata": {
    "colab": {
     "base_uri": "https://localhost:8080/",
     "height": 34
    },
    "colab_type": "code",
    "executionInfo": {
     "elapsed": 736,
     "status": "ok",
     "timestamp": 1597345463761,
     "user": {
      "displayName": "Omar Rachidi Lalaoui",
      "photoUrl": "",
      "userId": "03755236871103525465"
     },
     "user_tz": -60
    },
    "id": "xQoIR1ZtDHMY",
    "outputId": "0a8b42f2-735c-4ca6-c256-113bbd3e7e8e"
   },
   "outputs": [
    {
     "data": {
      "text/plain": [
       "11"
      ]
     },
     "execution_count": 36,
     "metadata": {
      "tags": []
     },
     "output_type": "execute_result"
    }
   ],
   "source": [
    "Irrelevant2=['Address','City','State','OSEBuildingID','DataYear','PropertyName','TaxParcelIdentificationNumber','ZipCode','LargestPropertyUseType','DefaultData','ComplianceStatus']\n",
    "#'CouncilDistrictCode','Neighborhood','ListOfAllPropertyUseTypes'\n",
    "len(Irrelevant2)"
   ]
  },
  {
   "cell_type": "code",
   "execution_count": null,
   "metadata": {
    "colab": {
     "base_uri": "https://localhost:8080/",
     "height": 85
    },
    "colab_type": "code",
    "executionInfo": {
     "elapsed": 109080,
     "status": "ok",
     "timestamp": 1597209163047,
     "user": {
      "displayName": "Julien Roubaud",
      "photoUrl": "",
      "userId": "05630475414564708020"
     },
     "user_tz": -120
    },
    "id": "hr3bstrXhycv",
    "outputId": "b6112973-5c8e-4b23-957e-80be27dc80a3"
   },
   "outputs": [
    {
     "name": "stdout",
     "output_type": "stream",
     "text": [
      "                   Latitude  Longitude  TotalGHGEmissions\n",
      "Latitude           1.000000   0.023498          -0.015170\n",
      "Longitude          0.023498   1.000000           0.009544\n",
      "TotalGHGEmissions -0.015170   0.009544           1.000000\n"
     ]
    }
   ],
   "source": [
    "data_test=data_mix.drop(['OSEBuildingID', 'DataYear', 'BuildingType', 'PrimaryPropertyType',\n",
    "       'PropertyName', 'Address', 'City', 'State', 'ZipCode',\n",
    "       'TaxParcelIdentificationNumber', 'CouncilDistrictCode', 'Neighborhood',\n",
    "       'YearBuilt', 'NumberofBuildings', 'NumberofFloors', 'PropertyGFATotal', 'PropertyGFAParking',\n",
    "       'PropertyGFABuilding(s)', 'ListOfAllPropertyUseTypes',\n",
    "       'LargestPropertyUseType', 'LargestPropertyUseTypeGFA',\n",
    "       'ENERGYSTARScore', 'SiteEUI(kBtu/sf)', 'SiteEUIWN(kBtu/sf)',\n",
    "       'SourceEUI(kBtu/sf)', 'SourceEUIWN(kBtu/sf)', 'SiteEnergyUse(kBtu)',\n",
    "       'SiteEnergyUseWN(kBtu)', 'SteamUse(kBtu)', 'Electricity(kWh)',\n",
    "       'Electricity(kBtu)', 'NaturalGas(therms)', 'NaturalGas(kBtu)', 'GHGEmissionsIntensity', 'DefaultData',\n",
    "       'ComplianceStatus'],axis=1)\n",
    "correl_1=data_test.sample(frac=00.1).corr(method='pearson')\n",
    "print(correl_1)"
   ]
  },
  {
   "cell_type": "code",
   "execution_count": null,
   "metadata": {
    "colab": {
     "base_uri": "https://localhost:8080/",
     "height": 34
    },
    "colab_type": "code",
    "executionInfo": {
     "elapsed": 800,
     "status": "ok",
     "timestamp": 1597345471359,
     "user": {
      "displayName": "Omar Rachidi Lalaoui",
      "photoUrl": "",
      "userId": "03755236871103525465"
     },
     "user_tz": -60
    },
    "id": "2QiPNMhF09qw",
    "outputId": "b7dadf7a-7bab-48c9-b06a-624f7b6cd692"
   },
   "outputs": [
    {
     "data": {
      "text/plain": [
       "(6716, 28)"
      ]
     },
     "execution_count": 37,
     "metadata": {
      "tags": []
     },
     "output_type": "execute_result"
    }
   ],
   "source": [
    "data_mix = data_mix.drop(Irrelevant2, axis=1)\n",
    "data_mix.shape"
   ]
  },
  {
   "cell_type": "markdown",
   "metadata": {
    "colab_type": "text",
    "id": "-Fn8d7Jk-CYp"
   },
   "source": [
    "##Remove Outliers"
   ]
  },
  {
   "cell_type": "code",
   "execution_count": null,
   "metadata": {
    "colab": {},
    "colab_type": "code",
    "id": "UWmUnMYboQsN"
   },
   "outputs": [],
   "source": [
    "#stat=[]\n",
    "#for var in variable_quanti:\n",
    " # k=[]\n",
    " # k.append(data_mix[var].quantile(0.25))\n",
    " # k.append(data_mix[var].quantile(0.75))\n",
    " # k.append(k[1]-k[0])\n",
    "  #stat.append(k)\n",
    "def outlier(var,data):\n",
    "  outlier_base=[]\n",
    "  for i in data[var]:\n",
    "    if i<stat[compteur_stat][0]-1.5*stat[compteur_stat][2] or i>stat[compteur_stat][1]+1.5*stat[compteur_stat][2]:\n",
    "      outlier_base.append(i)\n",
    "  return outlier_base\n",
    "#compteur_stat=0\n",
    "#for var in variable_quanti:\n",
    "  #print(len(outlier(var,data_mix)))\n",
    "  #compteur_stat+=1 "
   ]
  },
  {
   "cell_type": "code",
   "execution_count": null,
   "metadata": {
    "colab": {},
    "colab_type": "code",
    "id": "D0Tyt-BKtUbM"
   },
   "outputs": [],
   "source": [
    "def outlier_ENERGYSTARScore(data):\n",
    "  for value in data_mix['ENERGYSTARScore']:\n",
    "    if value<0 or value>100:\n",
    "      print(value)\n",
    "\n",
    "outlier_ENERGYSTARScore(data_mix)"
   ]
  },
  {
   "cell_type": "markdown",
   "metadata": {
    "colab_type": "text",
    "id": "6QM6JJSl6gcI"
   },
   "source": [
    "#Data visualization"
   ]
  },
  {
   "cell_type": "markdown",
   "metadata": {
    "colab_type": "text",
    "id": "0n4ieL-i6nBb"
   },
   "source": [
    "###Univariate data visualization"
   ]
  },
  {
   "cell_type": "code",
   "execution_count": null,
   "metadata": {
    "colab": {
     "base_uri": "https://localhost:8080/",
     "height": 204
    },
    "colab_type": "code",
    "executionInfo": {
     "elapsed": 1081,
     "status": "ok",
     "timestamp": 1597345486999,
     "user": {
      "displayName": "Omar Rachidi Lalaoui",
      "photoUrl": "",
      "userId": "03755236871103525465"
     },
     "user_tz": -60
    },
    "id": "uRme4B8-cNM2",
    "outputId": "c38cc37e-f3a1-4bca-d031-d5d135ebf274"
   },
   "outputs": [
    {
     "name": "stdout",
     "output_type": "stream",
     "text": [
      "Index(['BuildingType', 'PrimaryPropertyType', 'CouncilDistrictCode',\n",
      "       'Neighborhood', 'YearBuilt', 'NumberofBuildings', 'NumberofFloors',\n",
      "       'Latitude', 'Longitude', 'PropertyGFATotal', 'PropertyGFAParking',\n",
      "       'PropertyGFABuilding(s)', 'ListOfAllPropertyUseTypes',\n",
      "       'LargestPropertyUseTypeGFA', 'ENERGYSTARScore', 'SiteEUI(kBtu/sf)',\n",
      "       'SiteEUIWN(kBtu/sf)', 'SourceEUI(kBtu/sf)', 'SourceEUIWN(kBtu/sf)',\n",
      "       'SiteEnergyUse(kBtu)', 'SiteEnergyUseWN(kBtu)', 'SteamUse(kBtu)',\n",
      "       'Electricity(kWh)', 'Electricity(kBtu)', 'NaturalGas(therms)',\n",
      "       'NaturalGas(kBtu)', 'TotalGHGEmissions', 'GHGEmissionsIntensity'],\n",
      "      dtype='object')\n"
     ]
    },
    {
     "data": {
      "text/plain": [
       "28"
      ]
     },
     "execution_count": 40,
     "metadata": {
      "tags": []
     },
     "output_type": "execute_result"
    }
   ],
   "source": [
    "print(data_mix.columns)\n",
    "len(data_mix.columns)"
   ]
  },
  {
   "cell_type": "code",
   "execution_count": null,
   "metadata": {
    "colab": {
     "base_uri": "https://localhost:8080/",
     "height": 34
    },
    "colab_type": "code",
    "executionInfo": {
     "elapsed": 761,
     "status": "ok",
     "timestamp": 1597345492349,
     "user": {
      "displayName": "Omar Rachidi Lalaoui",
      "photoUrl": "",
      "userId": "03755236871103525465"
     },
     "user_tz": -60
    },
    "id": "es5PmqA6juor",
    "outputId": "ad619949-a28b-493f-a0ab-f72e1b81ebe5"
   },
   "outputs": [
    {
     "data": {
      "text/plain": [
       "20"
      ]
     },
     "execution_count": 41,
     "metadata": {
      "tags": []
     },
     "output_type": "execute_result"
    }
   ],
   "source": [
    "variable_quanti=['GHGEmissionsIntensity','TotalGHGEmissions','PropertyGFATotal','SiteEUI(kBtu/sf)','SiteEUIWN(kBtu/sf)','SourceEUI(kBtu/sf)','SourceEUIWN(kBtu/sf)','SiteEnergyUseWN(kBtu)', 'SteamUse(kBtu)', 'Electricity(kWh)','Electricity(kBtu)', 'NaturalGas(therms)', 'NaturalGas(kBtu)','YearBuilt','NumberofBuildings','NumberofFloors','PropertyGFAParking','PropertyGFABuilding(s)','LargestPropertyUseTypeGFA','ENERGYSTARScore']\n",
    "len(variable_quanti)"
   ]
  },
  {
   "cell_type": "code",
   "execution_count": null,
   "metadata": {
    "colab": {},
    "colab_type": "code",
    "id": "wNiYTALPjDBM"
   },
   "outputs": [],
   "source": [
    "variable_quali=['BuildingType', 'PrimaryPropertyType']"
   ]
  },
  {
   "cell_type": "code",
   "execution_count": null,
   "metadata": {
    "colab": {
     "base_uri": "https://localhost:8080/",
     "height": 153
    },
    "colab_type": "code",
    "executionInfo": {
     "elapsed": 3898,
     "status": "ok",
     "timestamp": 1597345501357,
     "user": {
      "displayName": "Omar Rachidi Lalaoui",
      "photoUrl": "",
      "userId": "03755236871103525465"
     },
     "user_tz": -60
    },
    "id": "Svz2zJ2vss8y",
    "outputId": "67a56413-e281-42b3-8fd9-7524568e2326"
   },
   "outputs": [
    {
     "name": "stdout",
     "output_type": "stream",
     "text": [
      "BuildingType\n",
      "PrimaryPropertyType\n",
      "CouncilDistrictCode\n",
      "Neighborhood\n",
      "Latitude\n",
      "Longitude\n",
      "ListOfAllPropertyUseTypes\n",
      "SiteEnergyUse(kBtu)\n"
     ]
    }
   ],
   "source": [
    "for colonne1 in data_mix.columns:\n",
    "  compteur=0\n",
    "  for colonne2 in variable_quanti:\n",
    "    if colonne1==colonne2:\n",
    "      compteur+=1\n",
    "  if compteur==0:\n",
    "    print(colonne1)"
   ]
  },
  {
   "cell_type": "code",
   "execution_count": null,
   "metadata": {
    "colab": {
     "base_uri": "https://localhost:8080/",
     "height": 1000
    },
    "colab_type": "code",
    "executionInfo": {
     "elapsed": 4015,
     "status": "ok",
     "timestamp": 1597345502310,
     "user": {
      "displayName": "Omar Rachidi Lalaoui",
      "photoUrl": "",
      "userId": "03755236871103525465"
     },
     "user_tz": -60
    },
    "id": "ChpFNC0W9F5v",
    "outputId": "27dd7edd-97bb-4317-f658-0dd800d8a558"
   },
   "outputs": [
    {
     "name": "stdout",
     "output_type": "stream",
     "text": [
      "BuildingType: \n",
      "\n"
     ]
    },
    {
     "data": {
      "image/png": "[encoded data removed]",
      "text/plain": [
       "<Figure size 576x576 with 1 Axes>"
      ]
     },
     "metadata": {
      "needs_background": "light",
      "tags": []
     },
     "output_type": "display_data"
    },
    {
     "name": "stdout",
     "output_type": "stream",
     "text": [
      "PrimaryPropertyType: \n",
      "\n"
     ]
    },
    {
     "data": {
      "image/png": "[encoded data removed]",
      "text/plain": [
       "<Figure size 576x576 with 1 Axes>"
      ]
     },
     "metadata": {
      "needs_background": "light",
      "tags": []
     },
     "output_type": "display_data"
    }
   ],
   "source": [
    "for var in variable_quali:\n",
    "  print(var+': \\n')\n",
    "  fig,ax=plt.subplots(figsize=(8,8))\n",
    "  ax.yaxis.set_major_formatter(ticker.FuncFormatter(lambda x,pos: '{}:,0%'.format(x)))\n",
    "  data_mix[var].value_counts(normalize=True).plot(kind='bar')\n",
    "  plt.title(var)\n",
    "  plt.show()"
   ]
  },
  {
   "cell_type": "code",
   "execution_count": null,
   "metadata": {
    "colab": {
     "base_uri": "https://localhost:8080/",
     "height": 34
    },
    "colab_type": "code",
    "executionInfo": {
     "elapsed": 109630,
     "status": "ok",
     "timestamp": 1597209163659,
     "user": {
      "displayName": "Julien Roubaud",
      "photoUrl": "",
      "userId": "05630475414564708020"
     },
     "user_tz": -120
    },
    "id": "KKiFleSjC6OU",
    "outputId": "5461460d-bc72-4310-9077-4eff377eac48"
   },
   "outputs": [
    {
     "data": {
      "text/plain": [
       "<Figure size 432x288 with 0 Axes>"
      ]
     },
     "metadata": {
      "tags": []
     },
     "output_type": "display_data"
    }
   ],
   "source": [
    "plt.savefig(path+ \"variable_quali.png\")"
   ]
  },
  {
   "cell_type": "code",
   "execution_count": null,
   "metadata": {
    "colab": {
     "base_uri": "https://localhost:8080/",
     "height": 1000
    },
    "colab_type": "code",
    "executionInfo": {
     "elapsed": 117816,
     "status": "ok",
     "timestamp": 1597209171855,
     "user": {
      "displayName": "Julien Roubaud",
      "photoUrl": "",
      "userId": "05630475414564708020"
     },
     "user_tz": -120
    },
    "id": "x9xJ8g68A7Z3",
    "outputId": "2bae935b-c9c8-48a9-ac98-e59c8a7f83cd"
   },
   "outputs": [
    {
     "name": "stderr",
     "output_type": "stream",
     "text": [
      "/usr/local/lib/python3.6/dist-packages/numpy/lib/histograms.py:839: RuntimeWarning: invalid value encountered in greater_equal\n",
      "  keep = (tmp_a >= first_edge)\n",
      "/usr/local/lib/python3.6/dist-packages/numpy/lib/histograms.py:840: RuntimeWarning: invalid value encountered in less_equal\n",
      "  keep &= (tmp_a <= last_edge)\n"
     ]
    },
    {
     "data": {
      "image/png": "[encoded data removed]",
      "text/plain": [
       "<Figure size 432x288 with 1 Axes>"
      ]
     },
     "metadata": {
      "needs_background": "light",
      "tags": []
     },
     "output_type": "display_data"
    },
    {
     "data": {
      "image/png": "[encoded data removed]",
      "text/plain": [
       "<Figure size 432x288 with 1 Axes>"
      ]
     },
     "metadata": {
      "needs_background": "light",
      "tags": []
     },
     "output_type": "display_data"
    },
    {
     "data": {
      "image/png": "[encoded data removed]",
      "text/plain": [
       "<Figure size 432x288 with 1 Axes>"
      ]
     },
     "metadata": {
      "needs_background": "light",
      "tags": []
     },
     "output_type": "display_data"
    },
    {
     "data": {
      "image/png": "[encoded data removed]",
      "text/plain": [
       "<Figure size 432x288 with 1 Axes>"
      ]
     },
     "metadata": {
      "needs_background": "light",
      "tags": []
     },
     "output_type": "display_data"
    },
    {
     "data": {
      "image/png": "[encoded data removed]",
      "text/plain": [
       "<Figure size 432x288 with 1 Axes>"
      ]
     },
     "metadata": {
      "needs_background": "light",
      "tags": []
     },
     "output_type": "display_data"
    },
    {
     "data": {
      "image/png": "[encoded data removed]",
      "text/plain": [
       "<Figure size 432x288 with 1 Axes>"
      ]
     },
     "metadata": {
      "needs_background": "light",
      "tags": []
     },
     "output_type": "display_data"
    },
    {
     "data": {
      "image/png": "[encoded data removed]",
      "text/plain": [
       "<Figure size 432x288 with 1 Axes>"
      ]
     },
     "metadata": {
      "needs_background": "light",
      "tags": []
     },
     "output_type": "display_data"
    },
    {
     "data": {
      "image/png": "[encoded data removed]",
      "text/plain": [
       "<Figure size 432x288 with 1 Axes>"
      ]
     },
     "metadata": {
      "needs_background": "light",
      "tags": []
     },
     "output_type": "display_data"
    },
    {
     "data": {
      "image/png": "[encoded data removed]",
      "text/plain": [
       "<Figure size 432x288 with 1 Axes>"
      ]
     },
     "metadata": {
      "needs_background": "light",
      "tags": []
     },
     "output_type": "display_data"
    },
    {
     "data": {
      "image/png": "[encoded data removed]",
      "text/plain": [
       "<Figure size 432x288 with 1 Axes>"
      ]
     },
     "metadata": {
      "needs_background": "light",
      "tags": []
     },
     "output_type": "display_data"
    },
    {
     "data": {
      "image/png": "[encoded data removed]",
      "text/plain": [
       "<Figure size 432x288 with 1 Axes>"
      ]
     },
     "metadata": {
      "needs_background": "light",
      "tags": []
     },
     "output_type": "display_data"
    },
    {
     "data": {
      "image/png": "[encoded data removed]",
      "text/plain": [
       "<Figure size 432x288 with 1 Axes>"
      ]
     },
     "metadata": {
      "needs_background": "light",
      "tags": []
     },
     "output_type": "display_data"
    },
    {
     "data": {
      "image/png": "[encoded data removed]",
      "text/plain": [
       "<Figure size 432x288 with 1 Axes>"
      ]
     },
     "metadata": {
      "needs_background": "light",
      "tags": []
     },
     "output_type": "display_data"
    },
    {
     "data": {
      "image/png": "[encoded data removed]",
      "text/plain": [
       "<Figure size 432x288 with 1 Axes>"
      ]
     },
     "metadata": {
      "needs_background": "light",
      "tags": []
     },
     "output_type": "display_data"
    },
    {
     "data": {
      "image/png": "[encoded data removed]",
      "text/plain": [
       "<Figure size 432x288 with 1 Axes>"
      ]
     },
     "metadata": {
      "needs_background": "light",
      "tags": []
     },
     "output_type": "display_data"
    },
    {
     "data": {
      "image/png": "[encoded data removed]",
      "text/plain": [
       "<Figure size 432x288 with 1 Axes>"
      ]
     },
     "metadata": {
      "needs_background": "light",
      "tags": []
     },
     "output_type": "display_data"
    },
    {
     "data": {
      "image/png": "[encoded data removed]",
      "text/plain": [
       "<Figure size 432x288 with 1 Axes>"
      ]
     },
     "metadata": {
      "needs_background": "light",
      "tags": []
     },
     "output_type": "display_data"
    },
    {
     "data": {
      "image/png": "[encoded data removed]",
      "text/plain": [
       "<Figure size 432x288 with 1 Axes>"
      ]
     },
     "metadata": {
      "needs_background": "light",
      "tags": []
     },
     "output_type": "display_data"
    },
    {
     "data": {
      "image/png": "[encoded data removed]",
      "text/plain": [
       "<Figure size 432x288 with 1 Axes>"
      ]
     },
     "metadata": {
      "needs_background": "light",
      "tags": []
     },
     "output_type": "display_data"
    },
    {
     "data": {
      "image/png": "[encoded data removed]",
      "text/plain": [
       "<Figure size 432x288 with 1 Axes>"
      ]
     },
     "metadata": {
      "needs_background": "light",
      "tags": []
     },
     "output_type": "display_data"
    }
   ],
   "source": [
    "def graph_quanti(var):\n",
    "  fig1,ax1=plt.subplots()\n",
    "  ax1.set_title(var)\n",
    "  plt.hist(data_mix[var],bins=100)\n",
    "for var in variable_quanti:\n",
    "  graph_quanti(var)"
   ]
  },
  {
   "cell_type": "code",
   "execution_count": null,
   "metadata": {
    "colab": {
     "base_uri": "https://localhost:8080/",
     "height": 34
    },
    "colab_type": "code",
    "executionInfo": {
     "elapsed": 117815,
     "status": "ok",
     "timestamp": 1597209171857,
     "user": {
      "displayName": "Julien Roubaud",
      "photoUrl": "",
      "userId": "05630475414564708020"
     },
     "user_tz": -120
    },
    "id": "7VlIegBXC_yr",
    "outputId": "17464573-2ed7-4462-f3d2-347562dc66c8"
   },
   "outputs": [
    {
     "data": {
      "text/plain": [
       "<Figure size 432x288 with 0 Axes>"
      ]
     },
     "metadata": {
      "tags": []
     },
     "output_type": "display_data"
    }
   ],
   "source": [
    "plt.savefig(path+ \"variable_quanti.png\")"
   ]
  },
  {
   "cell_type": "markdown",
   "metadata": {
    "colab_type": "text",
    "id": "UUn6qWPT-Z-C"
   },
   "source": [
    "##Multivariate Analysis"
   ]
  },
  {
   "cell_type": "code",
   "execution_count": null,
   "metadata": {
    "colab": {},
    "colab_type": "code",
    "id": "VfLQ7Gv7jXDP"
   },
   "outputs": [],
   "source": [
    "#sample=np.random.randint(data_mix.shape[0],size=int(data_mix.shape[0]*0.1))\n",
    "#df_sample=data_mix.iloc[sample]\n",
    "#sns.pairplot(df_sample,vars=variable_quanti)"
   ]
  },
  {
   "cell_type": "code",
   "execution_count": null,
   "metadata": {
    "colab": {
     "base_uri": "https://localhost:8080/",
     "height": 467
    },
    "colab_type": "code",
    "executionInfo": {
     "elapsed": 1184,
     "status": "ok",
     "timestamp": 1597345506273,
     "user": {
      "displayName": "Omar Rachidi Lalaoui",
      "photoUrl": "",
      "userId": "03755236871103525465"
     },
     "user_tz": -60
    },
    "id": "6uGc8Zk2p5oR",
    "outputId": "137b3cac-8787-42fd-ab29-17ef41099581"
   },
   "outputs": [
    {
     "data": {
      "text/plain": [
       "Text(0.0, 1.0, 'Heatmap des indicateurs numériques\\n')"
      ]
     },
     "execution_count": 45,
     "metadata": {
      "tags": []
     },
     "output_type": "execute_result"
    },
    {
     "data": {
      "image/png": "[encoded data removed]",
      "text/plain": [
       "<Figure size 432x288 with 2 Axes>"
      ]
     },
     "metadata": {
      "needs_background": "light",
      "tags": []
     },
     "output_type": "display_data"
    }
   ],
   "source": [
    "correl=data_mix.sample(frac=00.1).corr(method='pearson')\n",
    "correl_final=sns.heatmap(correl,vmin=-1,vmax=1,center=0,cmap=\"RdBu_r\",square=True)\n",
    "correl_final.set_title('Heatmap des indicateurs numériques\\n',fontsize=25,loc='left')"
   ]
  },
  {
   "cell_type": "code",
   "execution_count": null,
   "metadata": {
    "colab": {
     "base_uri": "https://localhost:8080/",
     "height": 34
    },
    "colab_type": "code",
    "executionInfo": {
     "elapsed": 119212,
     "status": "ok",
     "timestamp": 1597209173269,
     "user": {
      "displayName": "Julien Roubaud",
      "photoUrl": "",
      "userId": "05630475414564708020"
     },
     "user_tz": -120
    },
    "id": "SwFT94joEAqK",
    "outputId": "b9ec6f18-33a4-49a5-f6c0-747718cd6c3c"
   },
   "outputs": [
    {
     "data": {
      "text/plain": [
       "<Figure size 432x288 with 0 Axes>"
      ]
     },
     "metadata": {
      "tags": []
     },
     "output_type": "display_data"
    }
   ],
   "source": [
    "plt.savefig(path+ \"heatmap.png\")"
   ]
  },
  {
   "cell_type": "markdown",
   "metadata": {
    "colab_type": "text",
    "id": "aMzENVOs362t"
   },
   "source": [
    "Grâce au Heatmap on remarque les variables:\n",
    "- NumberofBuildings, PropertyGFATotal, PropertyGFABuilding(s),LargestPropertyUseTypeGFA\n",
    "-SiteEUI(kBtu/sf), SiteEUIWN(kBtu/sf)\n",
    "-SourceEUI(kBtu/sf), SourceEUIWN(kBtu/sf)\n",
    "-Electricity(kWh), Electricity(kBtu)\n",
    "-NaturalGas(therms), NaturalGas(kBtu)\n",
    "\n",
    "sont corrélés entre-elles, il est donc inutile de garder ces variables car on ne pert pas d'information en n'en gardant qu'une des deux variables. \n",
    "Supprimons donc les variables :\n",
    "\n",
    "PropertyGFATotal, PropertyGFABuilding(s),LargestPropertyUseTypeGFA, SiteEUIWN(kBtu/sf),SourceEUIWN(kBtu/sf), Electricity(kBtu),NaturalGas(kBtu)\n"
   ]
  },
  {
   "cell_type": "code",
   "execution_count": null,
   "metadata": {
    "colab": {
     "base_uri": "https://localhost:8080/",
     "height": 71
    },
    "colab_type": "code",
    "executionInfo": {
     "elapsed": 119204,
     "status": "ok",
     "timestamp": 1597209173270,
     "user": {
      "displayName": "Julien Roubaud",
      "photoUrl": "",
      "userId": "05630475414564708020"
     },
     "user_tz": -120
    },
    "id": "40yIXbVO27D9",
    "outputId": "930a8446-42c8-4def-c539-0161ddf4ed1f"
   },
   "outputs": [
    {
     "name": "stdout",
     "output_type": "stream",
     "text": [
      "['GHGEmissionsIntensity', 'TotalGHGEmissions', 'SiteEUI(kBtu/sf)', 'SteamUse(kBtu)', 'Electricity(kWh)', 'YearBuilt', 'NumberofBuildings', 'NumberofFloors', 'PropertyGFAParking', 'PropertyGFABuilding(s)', 'ENERGYSTARScore']\n"
     ]
    },
    {
     "data": {
      "text/plain": [
       "11"
      ]
     },
     "execution_count": 47,
     "metadata": {
      "tags": []
     },
     "output_type": "execute_result"
    }
   ],
   "source": [
    "#'PropertyGFABuilding(s)'\n",
    "#'GHGEmissionsIntensity',,'SiteEUI(kBtu/sf)','SourceEUI(kBtu/sf)','SourceEUIWN(kBtu/sf)', 'SteamUse(kBtu)', 'Electricity(kWh)', 'NaturalGas(therms)'\n",
    "Irrelevant3=['LargestPropertyUseTypeGFA','SiteEUIWN(kBtu/sf)', 'SourceEUI(kBtu/sf)', 'SourceEUIWN(kBtu/sf)','Electricity(kBtu)','NaturalGas(therms)', 'NaturalGas(kBtu)', 'SiteEnergyUseWN(kBtu)']\n",
    "#variable_quanti=[var in variable_quanti if var not in Irrelevant3]\n",
    "variable_quanti2=[]\n",
    "for var in variable_quanti:\n",
    "  if var not in Irrelevant3:\n",
    "    variable_quanti2.append(var)\n",
    "print(variable_quanti2)\n",
    "len(variable_quanti2)"
   ]
  },
  {
   "cell_type": "code",
   "execution_count": null,
   "metadata": {
    "colab": {
     "base_uri": "https://localhost:8080/",
     "height": 136
    },
    "colab_type": "code",
    "executionInfo": {
     "elapsed": 119193,
     "status": "ok",
     "timestamp": 1597209173272,
     "user": {
      "displayName": "Julien Roubaud",
      "photoUrl": "",
      "userId": "05630475414564708020"
     },
     "user_tz": -120
    },
    "id": "fuQwUCwidssO",
    "outputId": "e90711a2-2313-4836-ae0c-5355233a4840"
   },
   "outputs": [
    {
     "data": {
      "text/plain": [
       "Index(['BuildingType', 'PrimaryPropertyType', 'CouncilDistrictCode',\n",
       "       'Neighborhood', 'YearBuilt', 'NumberofBuildings', 'NumberofFloors',\n",
       "       'PropertyGFAParking', 'PropertyGFABuilding(s)',\n",
       "       'ListOfAllPropertyUseTypes', 'ENERGYSTARScore', 'SiteEUI(kBtu/sf)',\n",
       "       'SiteEnergyUse(kBtu)', 'SteamUse(kBtu)', 'Electricity(kWh)',\n",
       "       'TotalGHGEmissions', 'GHGEmissionsIntensity'],\n",
       "      dtype='object')"
      ]
     },
     "execution_count": 48,
     "metadata": {
      "tags": []
     },
     "output_type": "execute_result"
    }
   ],
   "source": [
    "data_mix=data_mix.drop(Irrelevant3, axis=1)\n",
    "data_mix.columns"
   ]
  },
  {
   "cell_type": "code",
   "execution_count": null,
   "metadata": {
    "colab": {
     "base_uri": "https://localhost:8080/",
     "height": 34
    },
    "colab_type": "code",
    "executionInfo": {
     "elapsed": 120034,
     "status": "ok",
     "timestamp": 1597209174124,
     "user": {
      "displayName": "Julien Roubaud",
      "photoUrl": "",
      "userId": "05630475414564708020"
     },
     "user_tz": -120
    },
    "id": "WNY7FVM_wLSs",
    "outputId": "43bce2b7-f758-4b0c-bc4c-3e8d9a373352"
   },
   "outputs": [
    {
     "data": {
      "text/plain": [
       "Text(0.0, 1.0, 'Heatmap des indicateurs numériques\\n')"
      ]
     },
     "execution_count": 49,
     "metadata": {
      "tags": []
     },
     "output_type": "execute_result"
    },
    {
     "data": {
      "image/png": "[encoded data removed]",
      "text/plain": [
       "<Figure size 432x288 with 2 Axes>"
      ]
     },
     "metadata": {
      "needs_background": "light",
      "tags": []
     },
     "output_type": "display_data"
    }
   ],
   "source": [
    "correl=data_mix.sample(frac=00.1).corr(method='pearson')\n",
    "correl_final=sns.heatmap(correl,vmin=-1,vmax=1,center=0,cmap=\"RdBu_r\",square=True)\n",
    "correl_final.set_title('Heatmap des indicateurs numériques\\n',fontsize=25,loc='left')\n",
    "#SteEnergyUse(kBtu), NaturalGas(therms), "
   ]
  },
  {
   "cell_type": "code",
   "execution_count": null,
   "metadata": {
    "colab": {
     "base_uri": "https://localhost:8080/",
     "height": 366
    },
    "colab_type": "code",
    "executionInfo": {
     "elapsed": 120019,
     "status": "ok",
     "timestamp": 1597209174126,
     "user": {
      "displayName": "Julien Roubaud",
      "photoUrl": "",
      "userId": "05630475414564708020"
     },
     "user_tz": -120
    },
    "id": "rvg-Q31Bz9Lh",
    "outputId": "c28dfcf5-c465-4fc2-c7f2-00153fb62109"
   },
   "outputs": [
    {
     "data": {
      "text/html": [
       "<div>\n",
       "<style scoped>\n",
       "    .dataframe tbody tr th:only-of-type {\n",
       "        vertical-align: middle;\n",
       "    }\n",
       "\n",
       "    .dataframe tbody tr th {\n",
       "        vertical-align: top;\n",
       "    }\n",
       "\n",
       "    .dataframe thead th {\n",
       "        text-align: right;\n",
       "    }\n",
       "</style>\n",
       "<table border=\"1\" class=\"dataframe\">\n",
       "  <thead>\n",
       "    <tr style=\"text-align: right;\">\n",
       "      <th></th>\n",
       "      <th>CouncilDistrictCode</th>\n",
       "      <th>YearBuilt</th>\n",
       "      <th>NumberofBuildings</th>\n",
       "      <th>NumberofFloors</th>\n",
       "      <th>PropertyGFAParking</th>\n",
       "      <th>PropertyGFABuilding(s)</th>\n",
       "      <th>ENERGYSTARScore</th>\n",
       "      <th>SiteEUI(kBtu/sf)</th>\n",
       "      <th>SiteEnergyUse(kBtu)</th>\n",
       "      <th>SteamUse(kBtu)</th>\n",
       "      <th>Electricity(kWh)</th>\n",
       "      <th>TotalGHGEmissions</th>\n",
       "      <th>GHGEmissionsIntensity</th>\n",
       "    </tr>\n",
       "  </thead>\n",
       "  <tbody>\n",
       "    <tr>\n",
       "      <th>CouncilDistrictCode</th>\n",
       "      <td>1.000000</td>\n",
       "      <td>-0.078879</td>\n",
       "      <td>-0.038957</td>\n",
       "      <td>0.162937</td>\n",
       "      <td>0.128573</td>\n",
       "      <td>0.087085</td>\n",
       "      <td>0.040301</td>\n",
       "      <td>0.076782</td>\n",
       "      <td>0.007879</td>\n",
       "      <td>0.140649</td>\n",
       "      <td>0.052879</td>\n",
       "      <td>-0.014565</td>\n",
       "      <td>0.017547</td>\n",
       "    </tr>\n",
       "    <tr>\n",
       "      <th>YearBuilt</th>\n",
       "      <td>-0.078879</td>\n",
       "      <td>1.000000</td>\n",
       "      <td>-0.014881</td>\n",
       "      <td>0.115477</td>\n",
       "      <td>0.258068</td>\n",
       "      <td>0.101561</td>\n",
       "      <td>0.016646</td>\n",
       "      <td>-0.002358</td>\n",
       "      <td>0.049492</td>\n",
       "      <td>-0.042054</td>\n",
       "      <td>0.085919</td>\n",
       "      <td>0.021934</td>\n",
       "      <td>-0.111212</td>\n",
       "    </tr>\n",
       "    <tr>\n",
       "      <th>NumberofBuildings</th>\n",
       "      <td>-0.038957</td>\n",
       "      <td>-0.014881</td>\n",
       "      <td>1.000000</td>\n",
       "      <td>-0.024402</td>\n",
       "      <td>-0.001098</td>\n",
       "      <td>0.547486</td>\n",
       "      <td>-0.128813</td>\n",
       "      <td>0.046369</td>\n",
       "      <td>0.250189</td>\n",
       "      <td>-0.009486</td>\n",
       "      <td>0.292997</td>\n",
       "      <td>0.206054</td>\n",
       "      <td>0.037494</td>\n",
       "    </tr>\n",
       "    <tr>\n",
       "      <th>NumberofFloors</th>\n",
       "      <td>0.162937</td>\n",
       "      <td>0.115477</td>\n",
       "      <td>-0.024402</td>\n",
       "      <td>1.000000</td>\n",
       "      <td>0.230432</td>\n",
       "      <td>0.248861</td>\n",
       "      <td>0.011583</td>\n",
       "      <td>-0.040639</td>\n",
       "      <td>0.091627</td>\n",
       "      <td>0.132868</td>\n",
       "      <td>0.162950</td>\n",
       "      <td>0.046380</td>\n",
       "      <td>-0.044029</td>\n",
       "    </tr>\n",
       "    <tr>\n",
       "      <th>PropertyGFAParking</th>\n",
       "      <td>0.128573</td>\n",
       "      <td>0.258068</td>\n",
       "      <td>-0.001098</td>\n",
       "      <td>0.230432</td>\n",
       "      <td>1.000000</td>\n",
       "      <td>0.259393</td>\n",
       "      <td>0.044958</td>\n",
       "      <td>0.161840</td>\n",
       "      <td>0.159069</td>\n",
       "      <td>0.021011</td>\n",
       "      <td>0.281067</td>\n",
       "      <td>0.073755</td>\n",
       "      <td>-0.031794</td>\n",
       "    </tr>\n",
       "    <tr>\n",
       "      <th>PropertyGFABuilding(s)</th>\n",
       "      <td>0.087085</td>\n",
       "      <td>0.101561</td>\n",
       "      <td>0.547486</td>\n",
       "      <td>0.248861</td>\n",
       "      <td>0.259393</td>\n",
       "      <td>1.000000</td>\n",
       "      <td>-0.026403</td>\n",
       "      <td>0.098444</td>\n",
       "      <td>0.527945</td>\n",
       "      <td>0.244461</td>\n",
       "      <td>0.684224</td>\n",
       "      <td>0.404172</td>\n",
       "      <td>0.100031</td>\n",
       "    </tr>\n",
       "    <tr>\n",
       "      <th>ENERGYSTARScore</th>\n",
       "      <td>0.040301</td>\n",
       "      <td>0.016646</td>\n",
       "      <td>-0.128813</td>\n",
       "      <td>0.011583</td>\n",
       "      <td>0.044958</td>\n",
       "      <td>-0.026403</td>\n",
       "      <td>1.000000</td>\n",
       "      <td>-0.396320</td>\n",
       "      <td>-0.196269</td>\n",
       "      <td>-0.108541</td>\n",
       "      <td>-0.191840</td>\n",
       "      <td>-0.188327</td>\n",
       "      <td>-0.331873</td>\n",
       "    </tr>\n",
       "    <tr>\n",
       "      <th>SiteEUI(kBtu/sf)</th>\n",
       "      <td>0.076782</td>\n",
       "      <td>-0.002358</td>\n",
       "      <td>0.046369</td>\n",
       "      <td>-0.040639</td>\n",
       "      <td>0.161840</td>\n",
       "      <td>0.098444</td>\n",
       "      <td>-0.396320</td>\n",
       "      <td>1.000000</td>\n",
       "      <td>0.381521</td>\n",
       "      <td>0.098301</td>\n",
       "      <td>0.443355</td>\n",
       "      <td>0.320139</td>\n",
       "      <td>0.698216</td>\n",
       "    </tr>\n",
       "    <tr>\n",
       "      <th>SiteEnergyUse(kBtu)</th>\n",
       "      <td>0.007879</td>\n",
       "      <td>0.049492</td>\n",
       "      <td>0.250189</td>\n",
       "      <td>0.091627</td>\n",
       "      <td>0.159069</td>\n",
       "      <td>0.527945</td>\n",
       "      <td>-0.196269</td>\n",
       "      <td>0.381521</td>\n",
       "      <td>1.000000</td>\n",
       "      <td>0.148625</td>\n",
       "      <td>0.933451</td>\n",
       "      <td>0.976424</td>\n",
       "      <td>0.647917</td>\n",
       "    </tr>\n",
       "    <tr>\n",
       "      <th>SteamUse(kBtu)</th>\n",
       "      <td>0.140649</td>\n",
       "      <td>-0.042054</td>\n",
       "      <td>-0.009486</td>\n",
       "      <td>0.132868</td>\n",
       "      <td>0.021011</td>\n",
       "      <td>0.244461</td>\n",
       "      <td>-0.108541</td>\n",
       "      <td>0.098301</td>\n",
       "      <td>0.148625</td>\n",
       "      <td>1.000000</td>\n",
       "      <td>0.214928</td>\n",
       "      <td>0.134408</td>\n",
       "      <td>0.162125</td>\n",
       "    </tr>\n",
       "  </tbody>\n",
       "</table>\n",
       "</div>"
      ],
      "text/plain": [
       "                        CouncilDistrictCode  ...  GHGEmissionsIntensity\n",
       "CouncilDistrictCode                1.000000  ...               0.017547\n",
       "YearBuilt                         -0.078879  ...              -0.111212\n",
       "NumberofBuildings                 -0.038957  ...               0.037494\n",
       "NumberofFloors                     0.162937  ...              -0.044029\n",
       "PropertyGFAParking                 0.128573  ...              -0.031794\n",
       "PropertyGFABuilding(s)             0.087085  ...               0.100031\n",
       "ENERGYSTARScore                    0.040301  ...              -0.331873\n",
       "SiteEUI(kBtu/sf)                   0.076782  ...               0.698216\n",
       "SiteEnergyUse(kBtu)                0.007879  ...               0.647917\n",
       "SteamUse(kBtu)                     0.140649  ...               0.162125\n",
       "\n",
       "[10 rows x 13 columns]"
      ]
     },
     "execution_count": 50,
     "metadata": {
      "tags": []
     },
     "output_type": "execute_result"
    }
   ],
   "source": [
    "correl.head(10)"
   ]
  },
  {
   "cell_type": "code",
   "execution_count": null,
   "metadata": {
    "colab": {
     "base_uri": "https://localhost:8080/",
     "height": 358
    },
    "colab_type": "code",
    "executionInfo": {
     "elapsed": 120009,
     "status": "ok",
     "timestamp": 1597209174127,
     "user": {
      "displayName": "Julien Roubaud",
      "photoUrl": "",
      "userId": "05630475414564708020"
     },
     "user_tz": -120
    },
    "id": "Pph8mnoswTfq",
    "outputId": "b5105ac9-284c-4304-cfd9-d0d9b268f3d3"
   },
   "outputs": [
    {
     "data": {
      "text/plain": [
       "[['NumberofBuildings', 'PropertyGFABuilding(s)', 0.5474858965813894],\n",
       " ['PropertyGFABuilding(s)', 'NumberofBuildings', 0.5474858965813894],\n",
       " ['PropertyGFABuilding(s)', 'SiteEnergyUse(kBtu)', 0.5279454959641956],\n",
       " ['PropertyGFABuilding(s)', 'Electricity(kWh)', 0.6842236500487142],\n",
       " ['SiteEUI(kBtu/sf)', 'GHGEmissionsIntensity', 0.6982160416669154],\n",
       " ['SiteEnergyUse(kBtu)', 'PropertyGFABuilding(s)', 0.5279454959641956],\n",
       " ['SiteEnergyUse(kBtu)', 'Electricity(kWh)', 0.9334513010825245],\n",
       " ['SiteEnergyUse(kBtu)', 'TotalGHGEmissions', 0.9764240078178826],\n",
       " ['SiteEnergyUse(kBtu)', 'GHGEmissionsIntensity', 0.6479174659560101],\n",
       " ['Electricity(kWh)', 'PropertyGFABuilding(s)', 0.6842236500487142],\n",
       " ['Electricity(kWh)', 'SiteEnergyUse(kBtu)', 0.9334513010825245],\n",
       " ['Electricity(kWh)', 'TotalGHGEmissions', 0.8352403314013112],\n",
       " ['Electricity(kWh)', 'GHGEmissionsIntensity', 0.5079892738479225],\n",
       " ['TotalGHGEmissions', 'SiteEnergyUse(kBtu)', 0.9764240078178826],\n",
       " ['TotalGHGEmissions', 'Electricity(kWh)', 0.8352403314013112],\n",
       " ['TotalGHGEmissions', 'GHGEmissionsIntensity', 0.6948885813197232],\n",
       " ['GHGEmissionsIntensity', 'SiteEUI(kBtu/sf)', 0.6982160416669154],\n",
       " ['GHGEmissionsIntensity', 'SiteEnergyUse(kBtu)', 0.6479174659560101],\n",
       " ['GHGEmissionsIntensity', 'Electricity(kWh)', 0.5079892738479225],\n",
       " ['GHGEmissionsIntensity', 'TotalGHGEmissions', 0.6948885813197232]]"
      ]
     },
     "execution_count": 51,
     "metadata": {
      "tags": []
     },
     "output_type": "execute_result"
    }
   ],
   "source": [
    "L=[]\n",
    "liste_var_corr=[]\n",
    "for colonne in correl.columns:\n",
    "  L.append(colonne)\n",
    "  \n",
    "for colonne in correl.columns: \n",
    "  compteur_ligne=0\n",
    "  for value in correl[colonne]:\n",
    "    k=[]\n",
    "    if (value<-0.5 or value>0.5) and value!=1:\n",
    "      k.append(colonne)\n",
    "      k.append(L[compteur_ligne])\n",
    "      k.append(value)\n",
    "      liste_var_corr.append(k)\n",
    "    compteur_ligne+=1\n",
    "liste_var_corr"
   ]
  },
  {
   "cell_type": "code",
   "execution_count": null,
   "metadata": {
    "colab": {},
    "colab_type": "code",
    "id": "nGkXczrBfxPF"
   },
   "outputs": [],
   "source": [
    "_d = ['CouncilDistrictCode','YearBuilt','NumberofBuildings','NumberofFloors','PropertyGFAParking','PropertyGFABuilding(s)']"
   ]
  },
  {
   "cell_type": "code",
   "execution_count": null,
   "metadata": {
    "colab": {},
    "colab_type": "code",
    "id": "INfNGCN7q1f-"
   },
   "outputs": [],
   "source": [
    "def eta_squared(x,y):\n",
    "    moyenne_y = y.mean()\n",
    "    classes = []\n",
    "    for classe in x.unique()[1:]:\n",
    "        #yi_classe = y[x==classe]\n",
    "        yi_classe = []\n",
    "        existList = x==classe \n",
    "        for i, val in enumerate(existList):\n",
    "          if val: yi_classe.append(y[i])\n",
    "        yi_classe = pd.Series(yi_classe)\n",
    "        classes.append({'ni': len(yi_classe),\n",
    "                        'moyenne_classe': yi_classe.mean()})\n",
    "    SCT = sum([(yj-moyenne_y)**2 for yj in y])\n",
    "    SCE = sum([c['ni']*(c['moyenne_classe']-moyenne_y)**2 for c in classes])\n",
    "    return np.sqrt(SCE/SCT)"
   ]
  },
  {
   "cell_type": "code",
   "execution_count": null,
   "metadata": {
    "colab": {},
    "colab_type": "code",
    "id": "1-IETiCwIPno"
   },
   "outputs": [],
   "source": [
    "X = data_mix[\"BuildingType\"]\n",
    "Y = data_mix[\"Electricity(kWh)\"]\n",
    "X = X[~X.isna()]\n",
    "Y = Y[~Y.isna()]\n",
    "X = X[:min(X.shape[0], Y.shape[0])]\n",
    "Y = Y[:min(X.shape[0], Y.shape[0])]\n",
    "X = X.reset_index()\n",
    "Y = Y.reset_index()\n",
    "X = X.drop([\"index\"], axis=1)\n",
    "Y = Y.drop([\"index\"], axis=1)\n",
    "X = X[\"BuildingType\"]\n",
    "Y = Y[\"Electricity(kWh)\"]"
   ]
  },
  {
   "cell_type": "code",
   "execution_count": null,
   "metadata": {
    "colab": {
     "base_uri": "https://localhost:8080/",
     "height": 34
    },
    "colab_type": "code",
    "executionInfo": {
     "elapsed": 119992,
     "status": "ok",
     "timestamp": 1597209174130,
     "user": {
      "displayName": "Julien Roubaud",
      "photoUrl": "",
      "userId": "05630475414564708020"
     },
     "user_tz": -120
    },
    "id": "t8BCxnaPNnMI",
    "outputId": "296ec169-8c58-4416-e80e-5cadf7450b4f"
   },
   "outputs": [
    {
     "name": "stdout",
     "output_type": "stream",
     "text": [
      "R2:  0.1009777087374763\n"
     ]
    }
   ],
   "source": [
    "print(\"R2: \", eta_squared(X, Y))"
   ]
  },
  {
   "cell_type": "code",
   "execution_count": null,
   "metadata": {
    "colab": {},
    "colab_type": "code",
    "id": "W38GNDDcMhvS"
   },
   "outputs": [],
   "source": [
    "data_mix.to_csv(\"data_mix.csv\", index=False)"
   ]
  },
  {
   "cell_type": "code",
   "execution_count": null,
   "metadata": {
    "colab": {
     "base_uri": "https://localhost:8080/",
     "height": 217
    },
    "colab_type": "code",
    "executionInfo": {
     "elapsed": 120795,
     "status": "ok",
     "timestamp": 1597209174943,
     "user": {
      "displayName": "Julien Roubaud",
      "photoUrl": "",
      "userId": "05630475414564708020"
     },
     "user_tz": -120
    },
    "id": "T8_4p_85SKnK",
    "outputId": "e4ca78eb-45b6-45c2-f5be-105fa9b4fb80"
   },
   "outputs": [
    {
     "data": {
      "text/html": [
       "<div>\n",
       "<style scoped>\n",
       "    .dataframe tbody tr th:only-of-type {\n",
       "        vertical-align: middle;\n",
       "    }\n",
       "\n",
       "    .dataframe tbody tr th {\n",
       "        vertical-align: top;\n",
       "    }\n",
       "\n",
       "    .dataframe thead th {\n",
       "        text-align: right;\n",
       "    }\n",
       "</style>\n",
       "<table border=\"1\" class=\"dataframe\">\n",
       "  <thead>\n",
       "    <tr style=\"text-align: right;\">\n",
       "      <th></th>\n",
       "      <th>BuildingType</th>\n",
       "      <th>PrimaryPropertyType</th>\n",
       "      <th>CouncilDistrictCode</th>\n",
       "      <th>Neighborhood</th>\n",
       "      <th>YearBuilt</th>\n",
       "      <th>NumberofBuildings</th>\n",
       "      <th>NumberofFloors</th>\n",
       "      <th>PropertyGFAParking</th>\n",
       "      <th>PropertyGFABuilding(s)</th>\n",
       "      <th>ListOfAllPropertyUseTypes</th>\n",
       "      <th>ENERGYSTARScore</th>\n",
       "      <th>SiteEUI(kBtu/sf)</th>\n",
       "      <th>SiteEnergyUse(kBtu)</th>\n",
       "      <th>SteamUse(kBtu)</th>\n",
       "      <th>Electricity(kWh)</th>\n",
       "      <th>TotalGHGEmissions</th>\n",
       "      <th>GHGEmissionsIntensity</th>\n",
       "    </tr>\n",
       "  </thead>\n",
       "  <tbody>\n",
       "    <tr>\n",
       "      <th>0</th>\n",
       "      <td>NonResidential</td>\n",
       "      <td>Hotel</td>\n",
       "      <td>7</td>\n",
       "      <td>DOWNTOWN</td>\n",
       "      <td>1927</td>\n",
       "      <td>1.0</td>\n",
       "      <td>12.0</td>\n",
       "      <td>0</td>\n",
       "      <td>88434</td>\n",
       "      <td>Hotel</td>\n",
       "      <td>65.0</td>\n",
       "      <td>78.9</td>\n",
       "      <td>6981428.0</td>\n",
       "      <td>2023032.0</td>\n",
       "      <td>1080307.0</td>\n",
       "      <td>249.43</td>\n",
       "      <td>2.64</td>\n",
       "    </tr>\n",
       "    <tr>\n",
       "      <th>1</th>\n",
       "      <td>NonResidential</td>\n",
       "      <td>Hotel</td>\n",
       "      <td>7</td>\n",
       "      <td>DOWNTOWN</td>\n",
       "      <td>1996</td>\n",
       "      <td>1.0</td>\n",
       "      <td>11.0</td>\n",
       "      <td>15064</td>\n",
       "      <td>88502</td>\n",
       "      <td>Hotel, Parking, Restaurant</td>\n",
       "      <td>51.0</td>\n",
       "      <td>94.4</td>\n",
       "      <td>8354235.0</td>\n",
       "      <td>0.0</td>\n",
       "      <td>1144563.0</td>\n",
       "      <td>263.51</td>\n",
       "      <td>2.38</td>\n",
       "    </tr>\n",
       "    <tr>\n",
       "      <th>2</th>\n",
       "      <td>NonResidential</td>\n",
       "      <td>Hotel</td>\n",
       "      <td>7</td>\n",
       "      <td>DOWNTOWN</td>\n",
       "      <td>1969</td>\n",
       "      <td>1.0</td>\n",
       "      <td>41.0</td>\n",
       "      <td>0</td>\n",
       "      <td>961990</td>\n",
       "      <td>Hotel, Parking, Swimming Pool</td>\n",
       "      <td>18.0</td>\n",
       "      <td>96.6</td>\n",
       "      <td>73130656.0</td>\n",
       "      <td>19660404.0</td>\n",
       "      <td>14583930.0</td>\n",
       "      <td>2061.48</td>\n",
       "      <td>1.92</td>\n",
       "    </tr>\n",
       "    <tr>\n",
       "      <th>3</th>\n",
       "      <td>NonResidential</td>\n",
       "      <td>Hotel</td>\n",
       "      <td>7</td>\n",
       "      <td>DOWNTOWN</td>\n",
       "      <td>1926</td>\n",
       "      <td>1.0</td>\n",
       "      <td>10.0</td>\n",
       "      <td>0</td>\n",
       "      <td>61320</td>\n",
       "      <td>Hotel</td>\n",
       "      <td>1.0</td>\n",
       "      <td>460.4</td>\n",
       "      <td>28229320.0</td>\n",
       "      <td>23458518.0</td>\n",
       "      <td>811521.0</td>\n",
       "      <td>1936.34</td>\n",
       "      <td>31.38</td>\n",
       "    </tr>\n",
       "    <tr>\n",
       "      <th>4</th>\n",
       "      <td>NonResidential</td>\n",
       "      <td>Hotel</td>\n",
       "      <td>7</td>\n",
       "      <td>DOWNTOWN</td>\n",
       "      <td>1980</td>\n",
       "      <td>1.0</td>\n",
       "      <td>18.0</td>\n",
       "      <td>12460</td>\n",
       "      <td>107430</td>\n",
       "      <td>Hotel, Parking, Swimming Pool</td>\n",
       "      <td>67.0</td>\n",
       "      <td>120.1</td>\n",
       "      <td>14829099.0</td>\n",
       "      <td>0.0</td>\n",
       "      <td>1777841.0</td>\n",
       "      <td>507.70</td>\n",
       "      <td>4.02</td>\n",
       "    </tr>\n",
       "  </tbody>\n",
       "</table>\n",
       "</div>"
      ],
      "text/plain": [
       "     BuildingType PrimaryPropertyType  ...  TotalGHGEmissions GHGEmissionsIntensity\n",
       "0  NonResidential               Hotel  ...             249.43                  2.64\n",
       "1  NonResidential               Hotel  ...             263.51                  2.38\n",
       "2  NonResidential               Hotel  ...            2061.48                  1.92\n",
       "3  NonResidential               Hotel  ...            1936.34                 31.38\n",
       "4  NonResidential               Hotel  ...             507.70                  4.02\n",
       "\n",
       "[5 rows x 17 columns]"
      ]
     },
     "execution_count": 57,
     "metadata": {
      "tags": []
     },
     "output_type": "execute_result"
    }
   ],
   "source": [
    "data_mix_test = pd.read_csv(\"data_mix.csv\")\n",
    "data_mix_test.head()"
   ]
  },
  {
   "cell_type": "code",
   "execution_count": null,
   "metadata": {
    "colab": {},
    "colab_type": "code",
    "id": "cpGvDs08E4Tl"
   },
   "outputs": [],
   "source": [
    "data_mix=data_mix[data_mix['BuildingType']=='NonResidential']"
   ]
  },
  {
   "cell_type": "code",
   "execution_count": null,
   "metadata": {
    "colab": {
     "base_uri": "https://localhost:8080/",
     "height": 34
    },
    "colab_type": "code",
    "executionInfo": {
     "elapsed": 120781,
     "status": "ok",
     "timestamp": 1597209174945,
     "user": {
      "displayName": "Julien Roubaud",
      "photoUrl": "",
      "userId": "05630475414564708020"
     },
     "user_tz": -120
    },
    "id": "_DA9rpDFQnJe",
    "outputId": "fbf299ba-88be-418e-b7eb-479e0a63a9aa"
   },
   "outputs": [
    {
     "name": "stdout",
     "output_type": "stream",
     "text": [
      "(2921, 17)\n"
     ]
    }
   ],
   "source": [
    "print(data_mix.shape)"
   ]
  },
  {
   "cell_type": "code",
   "execution_count": null,
   "metadata": {
    "colab": {
     "base_uri": "https://localhost:8080/",
     "height": 45
    },
    "colab_type": "code",
    "executionInfo": {
     "elapsed": 123231,
     "status": "ok",
     "timestamp": 1597209177405,
     "user": {
      "displayName": "Julien Roubaud",
      "photoUrl": "",
      "userId": "05630475414564708020"
     },
     "user_tz": -120
    },
    "id": "XHBxB8VWSVYx",
    "outputId": "e28289af-48eb-4966-894a-c8ac9fa1a08a"
   },
   "outputs": [
    {
     "name": "stdout",
     "output_type": "stream",
     "text": [
      "cp: cannot stat 'data_mix_nonresidential.csv': No such file or directory\n"
     ]
    }
   ],
   "source": [
    "!cp \"data_mix_nonresidential.csv\" \"drive/My Drive/\""
   ]
  },
  {
   "cell_type": "code",
   "execution_count": null,
   "metadata": {
    "colab": {},
    "colab_type": "code",
    "id": "3XlC4IkFQFNg"
   },
   "outputs": [],
   "source": [
    "data_mix.to_csv(\"drive/My Drive/data_mix_without_residential.csv\", index=False)"
   ]
  },
  {
   "cell_type": "code",
   "execution_count": null,
   "metadata": {
    "colab": {
     "base_uri": "https://localhost:8080/",
     "height": 34
    },
    "colab_type": "code",
    "executionInfo": {
     "elapsed": 123678,
     "status": "ok",
     "timestamp": 1597209177868,
     "user": {
      "displayName": "Julien Roubaud",
      "photoUrl": "",
      "userId": "05630475414564708020"
     },
     "user_tz": -120
    },
    "id": "MRHuzp6uXwA7",
    "outputId": "4dc019ba-350a-42ae-a3cb-95816975b7a6"
   },
   "outputs": [
    {
     "data": {
      "text/plain": [
       "(2921, 17)"
      ]
     },
     "execution_count": 62,
     "metadata": {
      "tags": []
     },
     "output_type": "execute_result"
    }
   ],
   "source": [
    "data_mix.shape"
   ]
  },
  {
   "cell_type": "code",
   "execution_count": null,
   "metadata": {
    "colab": {
     "base_uri": "https://localhost:8080/",
     "height": 45
    },
    "colab_type": "code",
    "executionInfo": {
     "elapsed": 126267,
     "status": "ok",
     "timestamp": 1597209180460,
     "user": {
      "displayName": "Julien Roubaud",
      "photoUrl": "",
      "userId": "05630475414564708020"
     },
     "user_tz": -120
    },
    "id": "-IfhDHSJA60A",
    "outputId": "d5226562-8375-4688-bc09-c9fca6eb1a0a"
   },
   "outputs": [
    {
     "name": "stdout",
     "output_type": "stream",
     "text": [
      "  adding: figures/ (stored 0%)\n",
      "  adding: figures/variable_quali.png (deflated 83%)\n",
      "  adding: figures/heatmap.png (deflated 83%)\n",
      "  adding: figures/variable_quanti.png (deflated 83%)\n",
      "  adding: figures/taux_de_remplissage.png (deflated 83%)\n"
     ]
    }
   ],
   "source": [
    "!zip -r \"figures.zip\" \"figures\""
   ]
  }
 ],
 "metadata": {
  "colab": {
   "collapsed_sections": [
    "ZYd63JqY22Vt",
    "-Fn8d7Jk-CYp",
    "0n4ieL-i6nBb",
    "UUn6qWPT-Z-C"
   ],
   "name": "Projet3_dataclean_final.ipynb",
   "provenance": [
    {
     "file_id": "1VrxXwUxD0U5fD6VuC83H_OdyT6tSIa96",
     "timestamp": 1599143069418
    }
   ]
  },
  "kernelspec": {
   "display_name": "Python 3",
   "language": "python",
   "name": "python3"
  },
  "language_info": {
   "codemirror_mode": {
    "name": "ipython",
    "version": 3
   },
   "file_extension": ".py",
   "mimetype": "text/x-python",
   "name": "python",
   "nbconvert_exporter": "python",
   "pygments_lexer": "ipython3",
   "version": "3.7.3"
  }
 },
 "nbformat": 4,
 "nbformat_minor": 1
}
